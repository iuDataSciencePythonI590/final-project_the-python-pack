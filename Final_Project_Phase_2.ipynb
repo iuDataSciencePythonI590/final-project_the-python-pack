{
 "cells": [
  {
   "cell_type": "markdown",
   "metadata": {},
   "source": [
    "# Phase 1"
   ]
  },
  {
   "cell_type": "markdown",
   "metadata": {},
   "source": [
    "## Import Modules and Load csv File"
   ]
  },
  {
   "cell_type": "code",
   "execution_count": 79,
   "metadata": {},
   "outputs": [],
   "source": [
    "%matplotlib inline\n",
    "import pandas as pd\n",
    "import matplotlib.pyplot as plt\n",
    "import numpy as np\n",
    "\n",
    "cancerdf = pd.read_csv('Breast-Cancer-Wisconsin.csv')"
   ]
  },
  {
   "cell_type": "markdown",
   "metadata": {},
   "source": [
    "## Impute missing values "
   ]
  },
  {
   "cell_type": "code",
   "execution_count": 80,
   "metadata": {},
   "outputs": [],
   "source": [
    "cancerdf.A7 = cancerdf.A7.replace('?',np.NaN)"
   ]
  },
  {
   "cell_type": "markdown",
   "metadata": {},
   "source": [
    "Convert Column A7 to numeric value and count null values"
   ]
  },
  {
   "cell_type": "code",
   "execution_count": 81,
   "metadata": {},
   "outputs": [
    {
     "name": "stdout",
     "output_type": "stream",
     "text": [
      "The number of NaN: 16\n"
     ]
    }
   ],
   "source": [
    "s = pd.Series(cancerdf.A7)\n",
    "cancerdf.A7 = pd.to_numeric(s)\n",
    "print(\"The number of NaN:\", s.isnull().sum())"
   ]
  },
  {
   "cell_type": "markdown",
   "metadata": {},
   "source": [
    "Fill null values with the mean of the column"
   ]
  },
  {
   "cell_type": "code",
   "execution_count": 82,
   "metadata": {},
   "outputs": [],
   "source": [
    "cancerdf = cancerdf.fillna(cancerdf.mean(skipna=True))"
   ]
  },
  {
   "cell_type": "markdown",
   "metadata": {},
   "source": [
    "## Compute Data Statistics "
   ]
  },
  {
   "cell_type": "markdown",
   "metadata": {},
   "source": [
    "Use describe() method to compute mean, standard deviation, percentiles, min and max"
   ]
  },
  {
   "cell_type": "code",
   "execution_count": 83,
   "metadata": {},
   "outputs": [
    {
     "data": {
      "text/html": [
       "<div>\n",
       "<style scoped>\n",
       "    .dataframe tbody tr th:only-of-type {\n",
       "        vertical-align: middle;\n",
       "    }\n",
       "\n",
       "    .dataframe tbody tr th {\n",
       "        vertical-align: top;\n",
       "    }\n",
       "\n",
       "    .dataframe thead th {\n",
       "        text-align: right;\n",
       "    }\n",
       "</style>\n",
       "<table border=\"1\" class=\"dataframe\">\n",
       "  <thead>\n",
       "    <tr style=\"text-align: right;\">\n",
       "      <th></th>\n",
       "      <th>Scn</th>\n",
       "      <th>A2</th>\n",
       "      <th>A3</th>\n",
       "      <th>A4</th>\n",
       "      <th>A5</th>\n",
       "      <th>A6</th>\n",
       "      <th>A7</th>\n",
       "      <th>A8</th>\n",
       "      <th>A9</th>\n",
       "      <th>A10</th>\n",
       "      <th>CLASS</th>\n",
       "    </tr>\n",
       "  </thead>\n",
       "  <tbody>\n",
       "    <tr>\n",
       "      <th>count</th>\n",
       "      <td>6.990000e+02</td>\n",
       "      <td>699.000000</td>\n",
       "      <td>699.000000</td>\n",
       "      <td>699.000000</td>\n",
       "      <td>699.000000</td>\n",
       "      <td>699.000000</td>\n",
       "      <td>699.000000</td>\n",
       "      <td>699.000000</td>\n",
       "      <td>699.000000</td>\n",
       "      <td>699.000000</td>\n",
       "      <td>699.000000</td>\n",
       "    </tr>\n",
       "    <tr>\n",
       "      <th>mean</th>\n",
       "      <td>1.071704e+06</td>\n",
       "      <td>4.417740</td>\n",
       "      <td>3.134478</td>\n",
       "      <td>3.207439</td>\n",
       "      <td>2.806867</td>\n",
       "      <td>3.216023</td>\n",
       "      <td>3.544656</td>\n",
       "      <td>3.437768</td>\n",
       "      <td>2.866953</td>\n",
       "      <td>1.589413</td>\n",
       "      <td>2.689557</td>\n",
       "    </tr>\n",
       "    <tr>\n",
       "      <th>std</th>\n",
       "      <td>6.170957e+05</td>\n",
       "      <td>2.815741</td>\n",
       "      <td>3.051459</td>\n",
       "      <td>2.971913</td>\n",
       "      <td>2.855379</td>\n",
       "      <td>2.214300</td>\n",
       "      <td>3.601852</td>\n",
       "      <td>2.438364</td>\n",
       "      <td>3.053634</td>\n",
       "      <td>1.715078</td>\n",
       "      <td>0.951273</td>\n",
       "    </tr>\n",
       "    <tr>\n",
       "      <th>min</th>\n",
       "      <td>6.163400e+04</td>\n",
       "      <td>1.000000</td>\n",
       "      <td>1.000000</td>\n",
       "      <td>1.000000</td>\n",
       "      <td>1.000000</td>\n",
       "      <td>1.000000</td>\n",
       "      <td>1.000000</td>\n",
       "      <td>1.000000</td>\n",
       "      <td>1.000000</td>\n",
       "      <td>1.000000</td>\n",
       "      <td>2.000000</td>\n",
       "    </tr>\n",
       "    <tr>\n",
       "      <th>25%</th>\n",
       "      <td>8.706885e+05</td>\n",
       "      <td>2.000000</td>\n",
       "      <td>1.000000</td>\n",
       "      <td>1.000000</td>\n",
       "      <td>1.000000</td>\n",
       "      <td>2.000000</td>\n",
       "      <td>1.000000</td>\n",
       "      <td>2.000000</td>\n",
       "      <td>1.000000</td>\n",
       "      <td>1.000000</td>\n",
       "      <td>2.000000</td>\n",
       "    </tr>\n",
       "    <tr>\n",
       "      <th>50%</th>\n",
       "      <td>1.171710e+06</td>\n",
       "      <td>4.000000</td>\n",
       "      <td>1.000000</td>\n",
       "      <td>1.000000</td>\n",
       "      <td>1.000000</td>\n",
       "      <td>2.000000</td>\n",
       "      <td>1.000000</td>\n",
       "      <td>3.000000</td>\n",
       "      <td>1.000000</td>\n",
       "      <td>1.000000</td>\n",
       "      <td>2.000000</td>\n",
       "    </tr>\n",
       "    <tr>\n",
       "      <th>75%</th>\n",
       "      <td>1.238298e+06</td>\n",
       "      <td>6.000000</td>\n",
       "      <td>5.000000</td>\n",
       "      <td>5.000000</td>\n",
       "      <td>4.000000</td>\n",
       "      <td>4.000000</td>\n",
       "      <td>5.000000</td>\n",
       "      <td>5.000000</td>\n",
       "      <td>4.000000</td>\n",
       "      <td>1.000000</td>\n",
       "      <td>4.000000</td>\n",
       "    </tr>\n",
       "    <tr>\n",
       "      <th>max</th>\n",
       "      <td>1.345435e+07</td>\n",
       "      <td>10.000000</td>\n",
       "      <td>10.000000</td>\n",
       "      <td>10.000000</td>\n",
       "      <td>10.000000</td>\n",
       "      <td>10.000000</td>\n",
       "      <td>10.000000</td>\n",
       "      <td>10.000000</td>\n",
       "      <td>10.000000</td>\n",
       "      <td>10.000000</td>\n",
       "      <td>4.000000</td>\n",
       "    </tr>\n",
       "  </tbody>\n",
       "</table>\n",
       "</div>"
      ],
      "text/plain": [
       "                Scn          A2          A3          A4          A5  \\\n",
       "count  6.990000e+02  699.000000  699.000000  699.000000  699.000000   \n",
       "mean   1.071704e+06    4.417740    3.134478    3.207439    2.806867   \n",
       "std    6.170957e+05    2.815741    3.051459    2.971913    2.855379   \n",
       "min    6.163400e+04    1.000000    1.000000    1.000000    1.000000   \n",
       "25%    8.706885e+05    2.000000    1.000000    1.000000    1.000000   \n",
       "50%    1.171710e+06    4.000000    1.000000    1.000000    1.000000   \n",
       "75%    1.238298e+06    6.000000    5.000000    5.000000    4.000000   \n",
       "max    1.345435e+07   10.000000   10.000000   10.000000   10.000000   \n",
       "\n",
       "               A6          A7          A8          A9         A10       CLASS  \n",
       "count  699.000000  699.000000  699.000000  699.000000  699.000000  699.000000  \n",
       "mean     3.216023    3.544656    3.437768    2.866953    1.589413    2.689557  \n",
       "std      2.214300    3.601852    2.438364    3.053634    1.715078    0.951273  \n",
       "min      1.000000    1.000000    1.000000    1.000000    1.000000    2.000000  \n",
       "25%      2.000000    1.000000    2.000000    1.000000    1.000000    2.000000  \n",
       "50%      2.000000    1.000000    3.000000    1.000000    1.000000    2.000000  \n",
       "75%      4.000000    5.000000    5.000000    4.000000    1.000000    4.000000  \n",
       "max     10.000000   10.000000   10.000000   10.000000   10.000000    4.000000  "
      ]
     },
     "execution_count": 83,
     "metadata": {},
     "output_type": "execute_result"
    }
   ],
   "source": [
    "cancerdf.describe()"
   ]
  },
  {
   "cell_type": "markdown",
   "metadata": {},
   "source": [
    "Report the number of row, columns and unique id values "
   ]
  },
  {
   "cell_type": "code",
   "execution_count": 84,
   "metadata": {},
   "outputs": [
    {
     "name": "stdout",
     "output_type": "stream",
     "text": [
      "The number of rows is: 699\n",
      "The number of columns is: 11\n",
      "The number of unique ID values is: 645\n"
     ]
    }
   ],
   "source": [
    "print(\"The number of rows is:\",cancerdf.shape[0])\n",
    "print(\"The number of columns is:\", cancerdf.shape[1])\n",
    "print(\"The number of unique ID values is:\",len(cancerdf.Scn.unique()))"
   ]
  },
  {
   "cell_type": "markdown",
   "metadata": {},
   "source": [
    "## Plot Basic Graphs"
   ]
  },
  {
   "cell_type": "markdown",
   "metadata": {},
   "source": [
    "Draw the histograms for columns A2 through A10"
   ]
  },
  {
   "cell_type": "code",
   "execution_count": 85,
   "metadata": {},
   "outputs": [
    {
     "data": {
      "image/png": "[encoded data removed]",
      "text/plain": [
       "<Figure size 1080x576 with 9 Axes>"
      ]
     },
     "metadata": {},
     "output_type": "display_data"
    }
   ],
   "source": [
    "df=cancerdf.loc[:,\"A2\":\"A10\"]\n",
    "df.hist(bins=20, color=\"yellow\", alpha=0.5, figsize=(15,8), grid=False)\n",
    "plt.tight_layout(rect=(0,0,1.2,1.2))"
   ]
  },
  {
   "cell_type": "markdown",
   "metadata": {},
   "source": [
    "Draw a bar plot for CLASS"
   ]
  },
  {
   "cell_type": "code",
   "execution_count": 86,
   "metadata": {},
   "outputs": [
    {
     "data": {
      "text/plain": [
       "Text(0,0.5,'Count')"
      ]
     },
     "execution_count": 86,
     "metadata": {},
     "output_type": "execute_result"
    },
    {
     "data": {
      "image/png": "[encoded data removed]",
      "text/plain": [
       "<Figure size 432x288 with 1 Axes>"
      ]
     },
     "metadata": {},
     "output_type": "display_data"
    }
   ],
   "source": [
    "df1=cancerdf.CLASS.value_counts()\n",
    "sp=df1.plot.bar(color = 'green')\n",
    "sp.set_xticklabels([\"benign\",\"malignant\"])\n",
    "sp.set_title('Number of Benign and Malignant Tumors')\n",
    "sp.set_xlabel('Class of Tumor')\n",
    "sp.set_ylabel('Count')"
   ]
  },
  {
   "cell_type": "markdown",
   "metadata": {},
   "source": [
    "Draw a scatterplot of any two columns"
   ]
  },
  {
   "cell_type": "code",
   "execution_count": 87,
   "metadata": {},
   "outputs": [
    {
     "data": {
      "text/plain": [
       "Text(0,0.5,'Uniformity of Cell Shape')"
      ]
     },
     "execution_count": 87,
     "metadata": {},
     "output_type": "execute_result"
    },
    {
     "data": {
      "image/png": "[encoded data removed]",
      "text/plain": [
       "<Figure size 432x288 with 1 Axes>"
      ]
     },
     "metadata": {},
     "output_type": "display_data"
    }
   ],
   "source": [
    "x=cancerdf.A3\n",
    "y=cancerdf.A4\n",
    "plt.scatter(x,y,color='r')\n",
    "plt.title('Cell Size and Shape Uniformity')\n",
    "plt.xlabel('Uniformity of Cell Size')\n",
    "plt.ylabel('Uniformity of Cell Shape')"
   ]
  },
  {
   "cell_type": "markdown",
   "metadata": {},
   "source": [
    "In summary, columns A3 (Uniformity of Cell Size), A7 (Bare Nuclei) and A9 (Normal Nuclei) had the highest standard deviations with values exceeding 3. Higher standard deviations indicate that the values are spread out from the mean for those particular columns. Columns A3, A7 and A9 have more variation in their data."
   ]
  },
  {
   "cell_type": "markdown",
   "metadata": {},
   "source": [
    "# Phase 2"
   ]
  },
  {
   "cell_type": "markdown",
   "metadata": {},
   "source": [
    "## Use KMeans Algorithm"
   ]
  },
  {
   "cell_type": "markdown",
   "metadata": {},
   "source": [
    "Continue working with cleaned data using only columns A2 through A10"
   ]
  },
  {
   "cell_type": "code",
   "execution_count": 88,
   "metadata": {},
   "outputs": [
    {
     "name": "stdout",
     "output_type": "stream",
     "text": [
      "     A2  A3  A4  A5  A6         A7  A8  A9  A10\n",
      "0     5   1   1   1   2   1.000000   3   1    1\n",
      "1     5   4   4   5   7  10.000000   3   2    1\n",
      "2     3   1   1   1   2   2.000000   3   1    1\n",
      "3     6   8   8   1   3   4.000000   3   7    1\n",
      "4     4   1   1   3   2   1.000000   3   1    1\n",
      "5     8  10  10   8   7  10.000000   9   7    1\n",
      "6     1   1   1   1   2  10.000000   3   1    1\n",
      "7     2   1   2   1   2   1.000000   3   1    1\n",
      "8     2   1   1   1   2   1.000000   1   1    5\n",
      "9     4   2   1   1   2   1.000000   2   1    1\n",
      "10    1   1   1   1   1   1.000000   3   1    1\n",
      "11    2   1   1   1   2   1.000000   2   1    1\n",
      "12    5   3   3   3   2   3.000000   4   4    1\n",
      "13    1   1   1   1   2   3.000000   3   1    1\n",
      "14    8   7   5  10   7   9.000000   5   5    4\n",
      "15    7   4   6   4   6   1.000000   4   3    1\n",
      "16    4   1   1   1   2   1.000000   2   1    1\n",
      "17    4   1   1   1   2   1.000000   3   1    1\n",
      "18   10   7   7   6   4  10.000000   4   1    2\n",
      "19    6   1   1   1   2   1.000000   3   1    1\n",
      "20    7   3   2  10   5  10.000000   5   4    4\n",
      "21   10   5   5   3   6   7.000000   7  10    1\n",
      "22    3   1   1   1   2   1.000000   2   1    1\n",
      "23    8   4   5   1   2   3.544656   7   3    1\n",
      "24    1   1   1   1   2   1.000000   3   1    1\n",
      "25    5   2   3   4   2   7.000000   3   6    1\n",
      "26    3   2   1   1   1   1.000000   2   1    1\n",
      "27    5   1   1   1   2   1.000000   2   1    1\n",
      "28    2   1   1   1   2   1.000000   2   1    1\n",
      "29    1   1   3   1   2   1.000000   1   1    1\n",
      "..   ..  ..  ..  ..  ..        ...  ..  ..  ...\n",
      "669   5  10  10   8   5   5.000000   7  10    1\n",
      "670   3  10   7   8   5   8.000000   7   4    1\n",
      "671   3   2   1   2   2   1.000000   3   1    1\n",
      "672   2   1   1   1   2   1.000000   3   1    1\n",
      "673   5   3   2   1   3   1.000000   1   1    1\n",
      "674   1   1   1   1   2   1.000000   2   1    1\n",
      "675   4   1   4   1   2   1.000000   1   1    1\n",
      "676   1   1   2   1   2   1.000000   2   1    1\n",
      "677   5   1   1   1   2   1.000000   1   1    1\n",
      "678   1   1   1   1   2   1.000000   1   1    1\n",
      "679   2   1   1   1   2   1.000000   1   1    1\n",
      "680  10  10  10  10   5  10.000000  10  10    7\n",
      "681   5  10  10  10   4  10.000000   5   6    3\n",
      "682   5   1   1   1   2   1.000000   3   2    1\n",
      "683   1   1   1   1   2   1.000000   1   1    1\n",
      "684   1   1   1   1   2   1.000000   1   1    1\n",
      "685   1   1   1   1   2   1.000000   1   1    1\n",
      "686   1   1   1   1   2   1.000000   1   1    1\n",
      "687   3   1   1   1   2   1.000000   2   3    1\n",
      "688   4   1   1   1   2   1.000000   1   1    1\n",
      "689   1   1   1   1   2   1.000000   1   1    8\n",
      "690   1   1   1   3   2   1.000000   1   1    1\n",
      "691   5  10  10   5   4   5.000000   4   4    1\n",
      "692   3   1   1   1   2   1.000000   1   1    1\n",
      "693   3   1   1   1   2   1.000000   2   1    2\n",
      "694   3   1   1   1   3   2.000000   1   1    1\n",
      "695   2   1   1   1   2   1.000000   1   1    1\n",
      "696   5  10  10   3   7   3.000000   8  10    2\n",
      "697   4   8   6   4   3   4.000000  10   6    1\n",
      "698   4   8   8   5   4   5.000000  10   4    1\n",
      "\n",
      "[699 rows x 9 columns]\n"
     ]
    }
   ],
   "source": [
    "from sklearn.cluster import KMeans\n",
    "\n",
    "df=cancerdf.loc[:,\"A2\":\"A10\"]\n",
    "print(df)"
   ]
  },
  {
   "cell_type": "markdown",
   "metadata": {},
   "source": [
    "Create KMeans model for 4 clusters and fit model to data"
   ]
  },
  {
   "cell_type": "code",
   "execution_count": 89,
   "metadata": {},
   "outputs": [
    {
     "data": {
      "text/plain": [
       "KMeans(algorithm='auto', copy_x=True, init='k-means++', max_iter=300,\n",
       "    n_clusters=4, n_init=10, n_jobs=1, precompute_distances='auto',\n",
       "    random_state=None, tol=0.0001, verbose=0)"
      ]
     },
     "execution_count": 89,
     "metadata": {},
     "output_type": "execute_result"
    }
   ],
   "source": [
    "samples = df.values\n",
    "from sklearn.cluster import KMeans\n",
    "model = KMeans(n_clusters = 4)\n",
    "model.fit(samples)"
   ]
  },
  {
   "cell_type": "code",
   "execution_count": 90,
   "metadata": {},
   "outputs": [
    {
     "name": "stdout",
     "output_type": "stream",
     "text": [
      "[0 1 0 3 0 2 0 0 0 0 0 0 0 0 2 3 0 0 1 0 1 3 0 3 0 1 0 0 0 0 0 0 3 0 0 0 3\n",
      " 0 1 1 3 3 2 3 3 0 1 0 0 3 3 0 3 2 1 3 3 3 1 3 3 0 3 3 0 3 0 1 2 0 0 3 0 1\n",
      " 3 0 0 0 0 0 0 0 0 0 2 3 1 2 0 0 0 0 0 0 0 0 0 0 3 2 3 0 0 0 2 0 1 2 0 1 0\n",
      " 1 1 2 0 0 0 2 0 0 0 0 2 1 2 0 1 0 1 0 0 0 2 0 0 0 0 0 0 0 0 0 1 0 0 0 1 0\n",
      " 0 2 0 1 3 0 0 1 0 0 0 2 1 0 0 0 0 0 2 3 0 0 0 0 0 2 1 2 0 3 0 1 0 0 0 2 1\n",
      " 0 2 2 2 0 2 2 0 0 0 0 1 0 0 0 2 1 0 0 0 2 3 0 0 0 2 2 0 2 2 3 0 0 3 0 0 2\n",
      " 0 1 1 0 1 3 0 2 1 2 3 1 0 0 2 3 2 1 0 0 0 0 0 0 2 1 0 0 0 1 1 2 3 1 0 0 0\n",
      " 1 1 2 2 1 3 0 1 1 3 0 1 0 1 0 0 0 0 0 0 1 0 0 1 1 1 2 2 0 3 2 0 0 3 1 0 1\n",
      " 3 0 0 1 3 0 2 0 1 1 0 0 3 0 0 0 3 0 0 3 1 2 0 1 1 0 0 1 0 0 1 0 3 1 1 0 0\n",
      " 1 1 0 1 0 0 1 1 0 0 0 2 0 0 0 3 1 0 0 3 2 0 0 0 2 3 1 2 1 0 0 0 0 2 2 0 0\n",
      " 0 0 0 0 0 0 0 0 0 0 0 1 0 0 0 0 1 0 0 0 0 2 0 0 0 0 0 0 0 0 2 0 0 0 0 0 0\n",
      " 0 0 0 0 0 3 0 1 0 1 0 0 0 0 2 0 0 0 2 0 3 0 0 0 0 0 0 1 1 3 0 0 0 1 0 0 0\n",
      " 0 0 0 0 0 2 0 0 0 2 0 0 1 3 0 0 0 0 0 0 0 3 1 1 0 0 0 0 0 0 0 0 0 0 0 2 0\n",
      " 0 2 2 0 0 0 2 3 0 0 1 0 2 1 0 0 0 0 0 0 0 0 0 0 0 2 0 0 0 0 0 0 0 2 2 0 0\n",
      " 0 1 0 0 1 1 0 0 0 0 0 0 1 0 0 0 0 0 0 0 0 0 0 0 0 0 0 0 2 0 0 3 0 0 0 0 0\n",
      " 0 0 0 0 0 0 0 0 0 0 2 0 0 1 2 1 2 0 0 3 0 0 0 0 0 0 2 2 0 0 0 2 0 3 0 3 1\n",
      " 1 0 1 0 0 0 0 0 0 0 0 3 1 3 0 0 2 0 1 3 2 0 0 0 0 0 0 0 0 0 0 0 0 0 3 0 0\n",
      " 0 0 0 0 3 0 0 3 0 0 0 0 0 0 0 0 0 0 0 2 0 0 0 0 0 0 0 0 3 1 0 0 0 0 0 0 0\n",
      " 0 0 3 2 2 0 0 0 0 0 0 0 0 0 2 2 0 0 0 0 0 0 0 0 0 3 0 0 0 0 3 3 3]\n"
     ]
    }
   ],
   "source": [
    "labels = model.predict(samples)\n",
    "print(labels)"
   ]
  },
  {
   "cell_type": "markdown",
   "metadata": {},
   "source": [
    "Print centroids (matrix with 4 rows/clusters and 9 columns)"
   ]
  },
  {
   "cell_type": "code",
   "execution_count": 91,
   "metadata": {},
   "outputs": [
    {
     "name": "stdout",
     "output_type": "stream",
     "text": [
      "[[2.94493392 1.24449339 1.36563877 1.29295154 2.03964758 1.3514006\n",
      "  2.06167401 1.20044053 1.07709251]\n",
      " [7.23404255 4.85106383 5.04255319 4.86170213 4.11702128 9.38297872\n",
      "  5.26595745 3.78723404 1.64893617]\n",
      " [6.7625     8.3875     8.425      7.75       6.775      9.2125\n",
      "  7.375      7.7375     3.7875    ]\n",
      " [7.46478873 7.02816901 6.67605634 4.1971831  5.53521127 3.45322005\n",
      "  5.38028169 6.81690141 2.30985915]]\n"
     ]
    }
   ],
   "source": [
    "centroids = model.cluster_centers_\n",
    "print(centroids)"
   ]
  },
  {
   "cell_type": "markdown",
   "metadata": {},
   "source": [
    "## Find the optimal number of clusters"
   ]
  },
  {
   "cell_type": "markdown",
   "metadata": {},
   "source": [
    "Calculate inertia: \n",
    "    Create a range of 1 to 15.\n",
    "    Create an empty list for inertias values.\n",
    "    Use \"for\" loop to calculate KMeans for each value and append \"inertias\"       list."
   ]
  },
  {
   "cell_type": "code",
   "execution_count": 92,
   "metadata": {},
   "outputs": [],
   "source": [
    "ks = range(1, 15)\n",
    "\n",
    "inertias = [] \n",
    "\n",
    "for k in ks:\n",
    "    model =KMeans(n_clusters=k) \n",
    "    model.fit(samples)    \n",
    "    inertias.append(model.inertia_)"
   ]
  },
  {
   "cell_type": "markdown",
   "metadata": {},
   "source": [
    "Plot range and inertia"
   ]
  },
  {
   "cell_type": "code",
   "execution_count": 93,
   "metadata": {},
   "outputs": [
    {
     "data": {
      "image/png": "[encoded data removed]",
      "text/plain": [
       "<Figure size 432x288 with 1 Axes>"
      ]
     },
     "metadata": {},
     "output_type": "display_data"
    }
   ],
   "source": [
    "plt.plot(ks, inertias, '-o')\n",
    "plt.xlabel('number of clusters, k')\n",
    "plt.ylabel('Inertia')\n",
    "plt.title('Range vs Inertia')\n",
    "plt.xticks(ks)\n",
    "plt.show()"
   ]
  },
  {
   "cell_type": "markdown",
   "metadata": {},
   "source": [
    "The optimal number of clusters is determined by choosing an \"elbow\" in the inertia plot, or specificaly, the point where the inertia begins to decrease more slowly. The inertia appears to decrease more slowly at 2 in the plot shown above, therefore, 2 would be the ideal number of clusters."
   ]
  },
  {
   "cell_type": "markdown",
   "metadata": {},
   "source": [
    "## Revise data variation"
   ]
  },
  {
   "cell_type": "markdown",
   "metadata": {},
   "source": [
    "Apply standard deviation function for columns A2 through A10"
   ]
  },
  {
   "cell_type": "code",
   "execution_count": 94,
   "metadata": {},
   "outputs": [
    {
     "name": "stdout",
     "output_type": "stream",
     "text": [
      "A2     2.815741\n",
      "A3     3.051459\n",
      "A4     2.971913\n",
      "A5     2.855379\n",
      "A6     2.214300\n",
      "A7     3.601852\n",
      "A8     2.438364\n",
      "A9     3.053634\n",
      "A10    1.715078\n",
      "dtype: float64\n"
     ]
    }
   ],
   "source": [
    "df_std=df.std()\n",
    "print(df_std)"
   ]
  },
  {
   "cell_type": "markdown",
   "metadata": {},
   "source": [
    "Plot standard deviation values in a graphic that displays all nine values and includes the title, legend, ylabel and xlabel."
   ]
  },
  {
   "cell_type": "code",
   "execution_count": 95,
   "metadata": {},
   "outputs": [
    {
     "data": {
      "text/plain": [
       "Text(0,0.5,'Standard Deviation')"
      ]
     },
     "execution_count": 95,
     "metadata": {},
     "output_type": "execute_result"
    },
    {
     "data": {
      "image/png": "[encoded data removed]",
      "text/plain": [
       "<Figure size 432x288 with 1 Axes>"
      ]
     },
     "metadata": {},
     "output_type": "display_data"
    }
   ],
   "source": [
    "sp=df_std.plot.bar(color = 'purple')\n",
    "sp.set_title('Standard Deviation of Breast Cancer Data')\n",
    "sp.set_xlabel('Breast Cancer Attributes')\n",
    "sp.set_ylabel('Standard Deviation')"
   ]
  },
  {
   "cell_type": "markdown",
   "metadata": {},
   "source": [
    "## Describe which features have a lot of data variation\n",
    "Standard deviation is a measure used to quantify the amount of variation or dispersion in a data set. Column A7 has the highest standard deviation, and therefore has the most variation in the data. Column A10 has the lowest standard deviation and the least variation."
   ]
  },
  {
   "cell_type": "markdown",
   "metadata": {},
   "source": [
    "## Implement Normalization"
   ]
  },
  {
   "cell_type": "markdown",
   "metadata": {},
   "source": [
    "Import and use make_pipeline and Standard Scaler, and use n_cluster based on the optimal number of clusters (2) identified above."
   ]
  },
  {
   "cell_type": "code",
   "execution_count": 96,
   "metadata": {},
   "outputs": [],
   "source": [
    "from sklearn.preprocessing import StandardScaler\n",
    "from sklearn.pipeline import make_pipeline"
   ]
  },
  {
   "cell_type": "code",
   "execution_count": 97,
   "metadata": {},
   "outputs": [],
   "source": [
    "scaler = StandardScaler()\n",
    "kmeans = KMeans(n_clusters=2)\n",
    "pipeline = make_pipeline(scaler,kmeans)\n",
    "pipeline.fit(samples)\n",
    "labels=pipeline.predict(samples)"
   ]
  },
  {
   "cell_type": "markdown",
   "metadata": {},
   "source": [
    "Find and print centroids"
   ]
  },
  {
   "cell_type": "code",
   "execution_count": 98,
   "metadata": {},
   "outputs": [
    {
     "name": "stdout",
     "output_type": "stream",
     "text": [
      "[[-0.49622257 -0.60690049 -0.60209195 -0.51491746 -0.50971347 -0.5806004\n",
      "  -0.54770245 -0.53077769 -0.30375822]\n",
      " [ 0.98608331  1.20602021  1.19646478  1.02323341  1.01289215  1.1537572\n",
      "   1.08838307  1.05475054  0.60362211]]\n"
     ]
    }
   ],
   "source": [
    "centroids=kmeans.cluster_centers_\n",
    "print(centroids)"
   ]
  }
 ],
 "metadata": {
  "kernelspec": {
   "display_name": "Python 3",
   "language": "python",
   "name": "python3"
  },
  "language_info": {
   "codemirror_mode": {
    "name": "ipython",
    "version": 3
   },
   "file_extension": ".py",
   "mimetype": "text/x-python",
   "name": "python",
   "nbconvert_exporter": "python",
   "pygments_lexer": "ipython3",
   "version": "3.6.5"
  }
 },
 "nbformat": 4,
 "nbformat_minor": 2
}
