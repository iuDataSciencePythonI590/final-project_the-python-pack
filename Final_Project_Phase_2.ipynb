{
 "cells": [
  {
   "cell_type": "markdown",
   "metadata": {},
   "source": [
    "## Import Modules and Load csv File"
   ]
  },
  {
   "cell_type": "code",
   "execution_count": 121,
   "metadata": {},
   "outputs": [],
   "source": [
    "%matplotlib inline\n",
    "import pandas as pd\n",
    "import matplotlib.pyplot as plt\n",
    "import numpy as np\n",
    "\n",
    "from sklearn.preprocessing import StandardScaler\n",
    "from sklearn.cluster import KMeans\n",
    "from sklearn.pipeline import make_pipeline\n",
    "\n",
    "cancerdf = pd.read_csv('Breast-Cancer-Wisconsin.csv')"
   ]
  },
  {
   "cell_type": "markdown",
   "metadata": {},
   "source": [
    "## Impute missing values "
   ]
  },
  {
   "cell_type": "code",
   "execution_count": 122,
   "metadata": {},
   "outputs": [],
   "source": [
    "cancerdf.A7 = cancerdf.A7.replace('?',np.NaN)"
   ]
  },
  {
   "cell_type": "markdown",
   "metadata": {},
   "source": [
    "Convert Column A7 to numeric value and count null values"
   ]
  },
  {
   "cell_type": "code",
   "execution_count": 123,
   "metadata": {},
   "outputs": [
    {
     "name": "stdout",
     "output_type": "stream",
     "text": [
      "The number of NaN: 16\n"
     ]
    }
   ],
   "source": [
    "s = pd.Series(cancerdf.A7)\n",
    "cancerdf.A7 = pd.to_numeric(s)\n",
    "print(\"The number of NaN:\", s.isnull().sum())"
   ]
  },
  {
   "cell_type": "markdown",
   "metadata": {},
   "source": [
    "Fill null values with the mean of the column"
   ]
  },
  {
   "cell_type": "code",
   "execution_count": 124,
   "metadata": {},
   "outputs": [],
   "source": [
    "cancerdf = cancerdf.fillna(cancerdf.mean(skipna=True))"
   ]
  },
  {
   "cell_type": "markdown",
   "metadata": {},
   "source": [
    "## Use KMeans Algorithm"
   ]
  },
  {
   "cell_type": "markdown",
   "metadata": {},
   "source": [
    "Continue working with cleaned data using only columns A2 through A10"
   ]
  },
  {
   "cell_type": "code",
   "execution_count": 125,
   "metadata": {},
   "outputs": [
    {
     "name": "stdout",
     "output_type": "stream",
     "text": [
      "     A2  A3  A4  A5  A6         A7  A8  A9  A10\n",
      "0     5   1   1   1   2   1.000000   3   1    1\n",
      "1     5   4   4   5   7  10.000000   3   2    1\n",
      "2     3   1   1   1   2   2.000000   3   1    1\n",
      "3     6   8   8   1   3   4.000000   3   7    1\n",
      "4     4   1   1   3   2   1.000000   3   1    1\n",
      "5     8  10  10   8   7  10.000000   9   7    1\n",
      "6     1   1   1   1   2  10.000000   3   1    1\n",
      "7     2   1   2   1   2   1.000000   3   1    1\n",
      "8     2   1   1   1   2   1.000000   1   1    5\n",
      "9     4   2   1   1   2   1.000000   2   1    1\n",
      "10    1   1   1   1   1   1.000000   3   1    1\n",
      "11    2   1   1   1   2   1.000000   2   1    1\n",
      "12    5   3   3   3   2   3.000000   4   4    1\n",
      "13    1   1   1   1   2   3.000000   3   1    1\n",
      "14    8   7   5  10   7   9.000000   5   5    4\n",
      "15    7   4   6   4   6   1.000000   4   3    1\n",
      "16    4   1   1   1   2   1.000000   2   1    1\n",
      "17    4   1   1   1   2   1.000000   3   1    1\n",
      "18   10   7   7   6   4  10.000000   4   1    2\n",
      "19    6   1   1   1   2   1.000000   3   1    1\n",
      "20    7   3   2  10   5  10.000000   5   4    4\n",
      "21   10   5   5   3   6   7.000000   7  10    1\n",
      "22    3   1   1   1   2   1.000000   2   1    1\n",
      "23    8   4   5   1   2   3.544656   7   3    1\n",
      "24    1   1   1   1   2   1.000000   3   1    1\n",
      "25    5   2   3   4   2   7.000000   3   6    1\n",
      "26    3   2   1   1   1   1.000000   2   1    1\n",
      "27    5   1   1   1   2   1.000000   2   1    1\n",
      "28    2   1   1   1   2   1.000000   2   1    1\n",
      "29    1   1   3   1   2   1.000000   1   1    1\n",
      "..   ..  ..  ..  ..  ..        ...  ..  ..  ...\n",
      "669   5  10  10   8   5   5.000000   7  10    1\n",
      "670   3  10   7   8   5   8.000000   7   4    1\n",
      "671   3   2   1   2   2   1.000000   3   1    1\n",
      "672   2   1   1   1   2   1.000000   3   1    1\n",
      "673   5   3   2   1   3   1.000000   1   1    1\n",
      "674   1   1   1   1   2   1.000000   2   1    1\n",
      "675   4   1   4   1   2   1.000000   1   1    1\n",
      "676   1   1   2   1   2   1.000000   2   1    1\n",
      "677   5   1   1   1   2   1.000000   1   1    1\n",
      "678   1   1   1   1   2   1.000000   1   1    1\n",
      "679   2   1   1   1   2   1.000000   1   1    1\n",
      "680  10  10  10  10   5  10.000000  10  10    7\n",
      "681   5  10  10  10   4  10.000000   5   6    3\n",
      "682   5   1   1   1   2   1.000000   3   2    1\n",
      "683   1   1   1   1   2   1.000000   1   1    1\n",
      "684   1   1   1   1   2   1.000000   1   1    1\n",
      "685   1   1   1   1   2   1.000000   1   1    1\n",
      "686   1   1   1   1   2   1.000000   1   1    1\n",
      "687   3   1   1   1   2   1.000000   2   3    1\n",
      "688   4   1   1   1   2   1.000000   1   1    1\n",
      "689   1   1   1   1   2   1.000000   1   1    8\n",
      "690   1   1   1   3   2   1.000000   1   1    1\n",
      "691   5  10  10   5   4   5.000000   4   4    1\n",
      "692   3   1   1   1   2   1.000000   1   1    1\n",
      "693   3   1   1   1   2   1.000000   2   1    2\n",
      "694   3   1   1   1   3   2.000000   1   1    1\n",
      "695   2   1   1   1   2   1.000000   1   1    1\n",
      "696   5  10  10   3   7   3.000000   8  10    2\n",
      "697   4   8   6   4   3   4.000000  10   6    1\n",
      "698   4   8   8   5   4   5.000000  10   4    1\n",
      "\n",
      "[699 rows x 9 columns]\n"
     ]
    }
   ],
   "source": [
    "df=cancerdf.loc[:,\"A2\":\"A10\"]\n",
    "print(df)"
   ]
  },
  {
   "cell_type": "markdown",
   "metadata": {},
   "source": [
    "Create KMeans model for 4 clusters and fit model to data"
   ]
  },
  {
   "cell_type": "code",
   "execution_count": 126,
   "metadata": {},
   "outputs": [
    {
     "data": {
      "text/plain": [
       "KMeans(algorithm='auto', copy_x=True, init='k-means++', max_iter=300,\n",
       "    n_clusters=4, n_init=10, n_jobs=1, precompute_distances='auto',\n",
       "    random_state=None, tol=0.0001, verbose=0)"
      ]
     },
     "execution_count": 126,
     "metadata": {},
     "output_type": "execute_result"
    }
   ],
   "source": [
    "points = df.values\n",
    "from sklearn.cluster import KMeans\n",
    "model = KMeans(n_clusters = 4)\n",
    "model.fit(points)"
   ]
  },
  {
   "cell_type": "code",
   "execution_count": 127,
   "metadata": {},
   "outputs": [
    {
     "name": "stdout",
     "output_type": "stream",
     "text": [
      "[0 2 0 3 0 1 0 0 0 0 0 0 0 0 1 3 0 0 2 0 2 3 0 2 0 2 0 0 0 0 0 0 3 0 0 0 3\n",
      " 0 2 2 3 3 1 3 3 0 2 0 0 3 3 0 3 1 2 3 3 3 2 3 3 0 3 3 0 3 0 2 1 0 0 3 0 2\n",
      " 2 0 0 0 0 0 0 0 0 0 1 3 2 1 0 0 0 0 0 0 0 0 0 0 3 1 3 0 0 0 1 0 2 1 0 2 0\n",
      " 2 2 1 0 0 0 1 0 0 0 0 1 2 1 0 2 0 2 0 0 0 1 0 0 0 0 0 0 0 0 0 2 0 0 0 2 0\n",
      " 0 1 0 2 3 0 0 2 0 0 0 1 2 0 0 0 0 0 1 3 0 0 0 0 0 1 2 1 0 3 0 2 0 0 0 1 2\n",
      " 0 1 1 1 0 1 1 0 0 0 0 2 0 0 0 1 2 0 0 0 1 3 0 0 0 1 1 0 1 1 3 0 0 3 0 0 1\n",
      " 0 2 2 0 2 3 0 1 2 1 3 2 0 0 1 3 1 2 0 0 0 0 0 0 1 2 0 0 0 2 2 1 3 2 0 0 0\n",
      " 2 2 1 1 2 3 0 2 2 3 0 2 0 2 0 0 0 0 0 0 2 0 0 2 2 2 1 1 0 3 1 0 0 3 2 0 2\n",
      " 3 0 0 2 3 0 1 0 2 2 0 0 3 0 0 0 3 0 0 3 2 1 0 2 2 0 0 2 0 0 2 0 3 2 2 0 0\n",
      " 2 2 0 2 0 0 2 2 0 0 0 1 0 0 0 3 2 0 0 3 1 0 0 0 1 3 2 1 2 0 0 0 0 1 1 0 0\n",
      " 0 0 0 0 0 0 0 0 0 0 0 2 0 0 0 0 2 0 0 0 0 1 0 0 0 0 0 0 0 0 1 0 0 0 0 0 0\n",
      " 0 0 0 0 0 3 0 2 0 2 0 0 0 0 1 0 0 0 1 0 3 0 0 0 0 0 0 2 2 3 0 0 0 2 0 0 0\n",
      " 0 0 0 0 0 1 0 0 0 1 0 0 2 3 0 0 0 0 0 0 0 3 2 2 0 0 0 0 0 0 0 0 0 0 0 1 0\n",
      " 0 1 1 0 0 0 1 3 0 0 2 0 1 2 0 0 0 0 0 0 0 0 0 0 0 1 0 0 0 0 0 0 0 1 1 0 0\n",
      " 0 2 0 0 2 2 0 0 0 0 0 0 2 0 0 0 0 0 0 0 0 0 0 0 0 0 0 0 1 0 0 3 0 0 0 0 0\n",
      " 0 0 0 0 0 0 0 0 0 0 1 0 0 2 1 2 1 0 0 3 0 0 0 0 0 0 1 1 0 0 0 1 0 3 0 3 2\n",
      " 2 0 2 0 0 0 0 0 0 0 0 3 2 3 0 0 1 0 2 3 1 0 0 0 0 0 0 0 0 0 0 0 0 0 3 0 0\n",
      " 0 0 0 0 3 0 0 3 0 0 0 0 0 0 0 0 0 0 0 1 0 0 0 0 0 0 0 0 3 2 0 0 0 0 0 0 0\n",
      " 0 0 3 1 1 0 0 0 0 0 0 0 0 0 1 1 0 0 0 0 0 0 0 0 0 3 0 0 0 0 3 3 3]\n"
     ]
    }
   ],
   "source": [
    "labels = model.predict(points)\n",
    "print(labels)"
   ]
  },
  {
   "cell_type": "markdown",
   "metadata": {},
   "source": [
    "Print centroids (matrix with 4 rows/clusters and 9 columns)"
   ]
  },
  {
   "cell_type": "code",
   "execution_count": 128,
   "metadata": {},
   "outputs": [
    {
     "name": "stdout",
     "output_type": "stream",
     "text": [
      "[[2.94493392 1.24449339 1.36563877 1.29295154 2.03964758 1.3514006\n",
      "  2.06167401 1.20044053 1.07709251]\n",
      " [6.7625     8.3875     8.425      7.75       6.775      9.2125\n",
      "  7.375      7.7375     3.7875    ]\n",
      " [7.27083333 4.85416667 5.03125    4.78125    4.08333333 9.26609017\n",
      "  5.26041667 3.76041667 1.65625   ]\n",
      " [7.42028986 7.08695652 6.73913043 4.28985507 5.62318841 3.44397055\n",
      "  5.39130435 6.94202899 2.31884058]]\n"
     ]
    }
   ],
   "source": [
    "centroids = model.cluster_centers_\n",
    "print(centroids)"
   ]
  },
  {
   "cell_type": "markdown",
   "metadata": {},
   "source": [
    "## Find the optimal number of clusters"
   ]
  },
  {
   "cell_type": "markdown",
   "metadata": {},
   "source": [
    "Calculate inertia: \n",
    "    Create a range of 1 to 15.\n",
    "    Create an empty list for inertias values.\n",
    "    Use \"for\" loop to calculate KMeans for each value and append \"inertias\"       list."
   ]
  },
  {
   "cell_type": "code",
   "execution_count": 129,
   "metadata": {},
   "outputs": [],
   "source": [
    "ks = range(1, 15)\n",
    "\n",
    "inertias = [] \n",
    "\n",
    "for k in ks:\n",
    "    model =KMeans(n_clusters=k) \n",
    "    model.fit(points)    \n",
    "    inertias.append(model.inertia_)"
   ]
  },
  {
   "cell_type": "markdown",
   "metadata": {},
   "source": [
    "Plot range and intertia"
   ]
  },
  {
   "cell_type": "code",
   "execution_count": 130,
   "metadata": {},
   "outputs": [
    {
     "data": {
      "image/png": "[encoded data removed]",
      "text/plain": [
       "<Figure size 432x288 with 1 Axes>"
      ]
     },
     "metadata": {},
     "output_type": "display_data"
    }
   ],
   "source": [
    "plt.plot(ks, inertias, '-o')\n",
    "plt.xlabel('number of clusters, k')\n",
    "plt.ylabel('Inertia')\n",
    "plt.title('Range vs Inertia')\n",
    "plt.xticks(ks)\n",
    "plt.show()"
   ]
  },
  {
   "cell_type": "markdown",
   "metadata": {},
   "source": [
    "The optimal number of clusters is determined by choosing an \"elbow\" in the inertia plot, or specificaly, the point where the intertia begins to decrease more slowly. The inertia appears to decrease more slowly in the above plot at 3, therefore, 3 would be the ideal number of clusters."
   ]
  },
  {
   "cell_type": "markdown",
   "metadata": {},
   "source": [
    "## Revise data variation"
   ]
  },
  {
   "cell_type": "markdown",
   "metadata": {},
   "source": [
    "Apply standard deviation function for columns A2 through A10"
   ]
  },
  {
   "cell_type": "code",
   "execution_count": 131,
   "metadata": {},
   "outputs": [
    {
     "name": "stdout",
     "output_type": "stream",
     "text": [
      "A2     2.815741\n",
      "A3     3.051459\n",
      "A4     2.971913\n",
      "A5     2.855379\n",
      "A6     2.214300\n",
      "A7     3.601852\n",
      "A8     2.438364\n",
      "A9     3.053634\n",
      "A10    1.715078\n",
      "dtype: float64\n"
     ]
    }
   ],
   "source": [
    "df_std=df.std()\n",
    "print(df_std)"
   ]
  },
  {
   "cell_type": "markdown",
   "metadata": {},
   "source": [
    "Plot standard deviation values in a graphic that displays all nine values and includes the titel, legend, ylabel and xlabel."
   ]
  },
  {
   "cell_type": "code",
   "execution_count": 132,
   "metadata": {},
   "outputs": [
    {
     "data": {
      "text/plain": [
       "Text(0,0.5,'Standard Deviation')"
      ]
     },
     "execution_count": 132,
     "metadata": {},
     "output_type": "execute_result"
    },
    {
     "data": {
      "image/png": "[encoded data removed]",
      "text/plain": [
       "<Figure size 432x288 with 1 Axes>"
      ]
     },
     "metadata": {},
     "output_type": "display_data"
    }
   ],
   "source": [
    "sp=df_std.plot.bar(color = 'purple')\n",
    "sp.set_title('Standard Deviation of Breast Cancer Data')\n",
    "sp.set_xlabel('Breast Cancer Attributes')\n",
    "sp.set_ylabel('Standard Deviation')"
   ]
  },
  {
   "cell_type": "markdown",
   "metadata": {},
   "source": [
    "## Capture how wide or narrow the variation is in each column.\n",
    "Describe which features have a lot of variation."
   ]
  },
  {
   "cell_type": "markdown",
   "metadata": {},
   "source": [
    "## Implement Normalization"
   ]
  },
  {
   "cell_type": "markdown",
   "metadata": {},
   "source": [
    "Use make_pipeline and Standard Scaler, and use n_cluster based on the optimal number of clusters (3) identified above."
   ]
  },
  {
   "cell_type": "code",
   "execution_count": 137,
   "metadata": {},
   "outputs": [
    {
     "name": "stdout",
     "output_type": "stream",
     "text": [
      "[[-0.50155279 -0.61249516 -0.60963179 -0.52301352 -0.52309237 -0.58914655\n",
      "  -0.5535666  -0.53362883 -0.30720688]\n",
      " [ 0.97149511  1.18638768  1.18084142  1.01306401  1.01321674  1.14116201\n",
      "   1.07224455  1.0336256   0.59505198]]\n"
     ]
    }
   ],
   "source": [
    "from sklearn.preprocessing import StandardScaler\n",
    "from sklearn.cluster import KMeans\n",
    "\n",
    "scaler = StandardScaler()\n",
    "kmeans = KMeans(n_clusters=2)\n",
    "from sklearn.pipeline import make_pipeline\n",
    "pipeline = make_pipeline(scaler,kmeans)\n",
    "pipeline.fit(points)\n",
    "labels=pipeline.predict(points)\n",
    "centroids=kmeans.cluster_centers_\n",
    "print(centroids)"
   ]
  },
  {
   "cell_type": "markdown",
   "metadata": {},
   "source": [
    "Find and print centroids"
   ]
  },
  {
   "cell_type": "code",
   "execution_count": 134,
   "metadata": {},
   "outputs": [
    {
     "name": "stdout",
     "output_type": "stream",
     "text": [
      "[[8.25       3.65       4.2        1.95       3.2        3.2272328\n",
      "  4.2        2.4        2.85      ]\n",
      " [8.13043478 8.7826087  8.34782609 3.82608696 6.60869565 8.91304348\n",
      "  5.91304348 2.17391304 1.52173913]\n",
      " [8.05       9.3        8.9        7.6        8.45       7.7\n",
      "  6.8        8.95       8.85      ]\n",
      " [1.2459893  1.12299465 1.21390374 1.13903743 1.97326203 1.26881249\n",
      "  1.98930481 1.06417112 1.10160428]\n",
      " [7.9        3.95       4.05       9.25       3.85       9.7\n",
      "  5.4        3.8        2.        ]\n",
      " [4.11111111 3.11111111 3.33333333 3.22222222 4.27777778 3.75248088\n",
      "  4.16666667 6.5        1.        ]\n",
      " [8.4375     7.625      6.6875     2.125      4.8125     3.721541\n",
      "  4.375      8.875      2.0625    ]\n",
      " [7.04545455 8.59090909 8.18181818 6.22727273 5.31818182 3.20657527\n",
      "  7.90909091 8.22727273 1.59090909]\n",
      " [3.92857143 6.53571429 6.35714286 7.96428571 6.         9.35714286\n",
      "  6.67857143 7.03571429 2.67857143]\n",
      " [6.91891892 4.05405405 4.64864865 2.91891892 3.91891892 9.59459459\n",
      "  4.37837838 2.75675676 1.40540541]\n",
      " [4.06772908 1.25099602 1.40239044 1.34661355 2.02390438 1.27995193\n",
      "  2.01992032 1.15936255 1.02788845]\n",
      " [8.28       5.8        6.16       3.84       4.48       9.4\n",
      "  6.8        8.48       2.04      ]\n",
      " [7.24       9.4        9.52       9.04       6.52       9.56\n",
      "  7.92       7.68       2.24      ]\n",
      " [6.42857143 6.71428571 5.57142857 9.28571429 7.14285714 1.85714286\n",
      "  3.42857143 2.57142857 2.57142857]]\n"
     ]
    }
   ],
   "source": [
    "centroids = model.cluster_centers_\n",
    "print(centroids)"
   ]
  },
  {
   "cell_type": "code",
   "execution_count": null,
   "metadata": {},
   "outputs": [],
   "source": []
  }
 ],
 "metadata": {
  "kernelspec": {
   "display_name": "Python 3",
   "language": "python",
   "name": "python3"
  },
  "language_info": {
   "codemirror_mode": {
    "name": "ipython",
    "version": 3
   },
   "file_extension": ".py",
   "mimetype": "text/x-python",
   "name": "python",
   "nbconvert_exporter": "python",
   "pygments_lexer": "ipython3",
   "version": "3.6.5"
  }
 },
 "nbformat": 4,
 "nbformat_minor": 2
}
