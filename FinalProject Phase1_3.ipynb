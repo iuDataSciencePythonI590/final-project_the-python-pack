{
 "cells": [
  {
   "cell_type": "markdown",
   "metadata": {},
   "source": [
    "# Final Project "
   ]
  },
  {
   "cell_type": "markdown",
   "metadata": {},
   "source": [
    "## Phase 1"
   ]
  },
  {
   "cell_type": "markdown",
   "metadata": {},
   "source": [
    "### Imports and Load csv"
   ]
  },
  {
   "cell_type": "code",
   "execution_count": 1,
   "metadata": {},
   "outputs": [],
   "source": [
    "%matplotlib inline\n",
    "import pandas as pd\n",
    "import matplotlib.pyplot as plt\n",
    "import numpy as np\n",
    "\n",
    "breastcancerdf = pd.read_csv(\"C:\\Breast-Cancer-Wisconsin.csv\")"
   ]
  },
  {
   "cell_type": "markdown",
   "metadata": {},
   "source": [
    "## Replace missing values"
   ]
  },
  {
   "cell_type": "code",
   "execution_count": 2,
   "metadata": {},
   "outputs": [],
   "source": [
    "breastcancerdf.A7=breastcancerdf.A7.replace('?', np.NaN)"
   ]
  },
  {
   "cell_type": "markdown",
   "metadata": {},
   "source": [
    "### Convert column A7 to numeric"
   ]
  },
  {
   "cell_type": "code",
   "execution_count": 3,
   "metadata": {},
   "outputs": [
    {
     "name": "stdout",
     "output_type": "stream",
     "text": [
      "Total NaN =  16\n"
     ]
    }
   ],
   "source": [
    "s = pd.Series(breastcancerdf.A7)\n",
    "breastcancerdf.A7 = pd.to_numeric(s)\n",
    "print('Total NaN = ', s.isnull().sum())"
   ]
  },
  {
   "cell_type": "markdown",
   "metadata": {},
   "source": [
    "### Fill null values with column mean"
   ]
  },
  {
   "cell_type": "code",
   "execution_count": 4,
   "metadata": {},
   "outputs": [
    {
     "name": "stdout",
     "output_type": "stream",
     "text": [
      "         Scn  A2  A3  A4  A5  A6         A7  A8  A9  A10  CLASS\n",
      "0    1000025   5   1   1   1   2   1.000000   3   1    1      2\n",
      "1    1002945   5   4   4   5   7  10.000000   3   2    1      2\n",
      "2    1015425   3   1   1   1   2   2.000000   3   1    1      2\n",
      "3    1016277   6   8   8   1   3   4.000000   3   7    1      2\n",
      "4    1017023   4   1   1   3   2   1.000000   3   1    1      2\n",
      "5    1017122   8  10  10   8   7  10.000000   9   7    1      4\n",
      "6    1018099   1   1   1   1   2  10.000000   3   1    1      2\n",
      "7    1018561   2   1   2   1   2   1.000000   3   1    1      2\n",
      "8    1033078   2   1   1   1   2   1.000000   1   1    5      2\n",
      "9    1033078   4   2   1   1   2   1.000000   2   1    1      2\n",
      "10   1035283   1   1   1   1   1   1.000000   3   1    1      2\n",
      "11   1036172   2   1   1   1   2   1.000000   2   1    1      2\n",
      "12   1041801   5   3   3   3   2   3.000000   4   4    1      4\n",
      "13   1043999   1   1   1   1   2   3.000000   3   1    1      2\n",
      "14   1044572   8   7   5  10   7   9.000000   5   5    4      4\n",
      "15   1047630   7   4   6   4   6   1.000000   4   3    1      4\n",
      "16   1048672   4   1   1   1   2   1.000000   2   1    1      2\n",
      "17   1049815   4   1   1   1   2   1.000000   3   1    1      2\n",
      "18   1050670  10   7   7   6   4  10.000000   4   1    2      4\n",
      "19   1050718   6   1   1   1   2   1.000000   3   1    1      2\n",
      "20   1054590   7   3   2  10   5  10.000000   5   4    4      4\n",
      "21   1054593  10   5   5   3   6   7.000000   7  10    1      4\n",
      "22   1056784   3   1   1   1   2   1.000000   2   1    1      2\n",
      "23   1057013   8   4   5   1   2   3.544656   7   3    1      4\n",
      "24   1059552   1   1   1   1   2   1.000000   3   1    1      2\n",
      "25   1065726   5   2   3   4   2   7.000000   3   6    1      4\n",
      "26   1066373   3   2   1   1   1   1.000000   2   1    1      2\n",
      "27   1066979   5   1   1   1   2   1.000000   2   1    1      2\n",
      "28   1067444   2   1   1   1   2   1.000000   2   1    1      2\n",
      "29   1070935   1   1   3   1   2   1.000000   1   1    1      2\n",
      "..       ...  ..  ..  ..  ..  ..        ...  ..  ..  ...    ...\n",
      "669  1350423   5  10  10   8   5   5.000000   7  10    1      4\n",
      "670  1352848   3  10   7   8   5   8.000000   7   4    1      4\n",
      "671  1353092   3   2   1   2   2   1.000000   3   1    1      2\n",
      "672  1354840   2   1   1   1   2   1.000000   3   1    1      2\n",
      "673  1354840   5   3   2   1   3   1.000000   1   1    1      2\n",
      "674  1355260   1   1   1   1   2   1.000000   2   1    1      2\n",
      "675  1365075   4   1   4   1   2   1.000000   1   1    1      2\n",
      "676  1365328   1   1   2   1   2   1.000000   2   1    1      2\n",
      "677  1368267   5   1   1   1   2   1.000000   1   1    1      2\n",
      "678  1368273   1   1   1   1   2   1.000000   1   1    1      2\n",
      "679  1368882   2   1   1   1   2   1.000000   1   1    1      2\n",
      "680  1369821  10  10  10  10   5  10.000000  10  10    7      4\n",
      "681  1371026   5  10  10  10   4  10.000000   5   6    3      4\n",
      "682  1371920   5   1   1   1   2   1.000000   3   2    1      2\n",
      "683   466906   1   1   1   1   2   1.000000   1   1    1      2\n",
      "684   466906   1   1   1   1   2   1.000000   1   1    1      2\n",
      "685   534555   1   1   1   1   2   1.000000   1   1    1      2\n",
      "686   536708   1   1   1   1   2   1.000000   1   1    1      2\n",
      "687   566346   3   1   1   1   2   1.000000   2   3    1      2\n",
      "688   603148   4   1   1   1   2   1.000000   1   1    1      2\n",
      "689   654546   1   1   1   1   2   1.000000   1   1    8      2\n",
      "690   654546   1   1   1   3   2   1.000000   1   1    1      2\n",
      "691   695091   5  10  10   5   4   5.000000   4   4    1      4\n",
      "692   714039   3   1   1   1   2   1.000000   1   1    1      2\n",
      "693   763235   3   1   1   1   2   1.000000   2   1    2      2\n",
      "694   776715   3   1   1   1   3   2.000000   1   1    1      2\n",
      "695   841769   2   1   1   1   2   1.000000   1   1    1      2\n",
      "696   888820   5  10  10   3   7   3.000000   8  10    2      4\n",
      "697   897471   4   8   6   4   3   4.000000  10   6    1      4\n",
      "698   897471   4   8   8   5   4   5.000000  10   4    1      4\n",
      "\n",
      "[699 rows x 11 columns]\n"
     ]
    }
   ],
   "source": [
    "breastcancerdf=breastcancerdf.fillna(breastcancerdf.mean(skipna=True))\n",
    "print(breastcancerdf)"
   ]
  },
  {
   "cell_type": "markdown",
   "metadata": {},
   "source": [
    "## Compute Stats"
   ]
  },
  {
   "cell_type": "code",
   "execution_count": 5,
   "metadata": {},
   "outputs": [
    {
     "data": {
      "text/html": [
       "<div>\n",
       "<style scoped>\n",
       "    .dataframe tbody tr th:only-of-type {\n",
       "        vertical-align: middle;\n",
       "    }\n",
       "\n",
       "    .dataframe tbody tr th {\n",
       "        vertical-align: top;\n",
       "    }\n",
       "\n",
       "    .dataframe thead th {\n",
       "        text-align: right;\n",
       "    }\n",
       "</style>\n",
       "<table border=\"1\" class=\"dataframe\">\n",
       "  <thead>\n",
       "    <tr style=\"text-align: right;\">\n",
       "      <th></th>\n",
       "      <th>Scn</th>\n",
       "      <th>A2</th>\n",
       "      <th>A3</th>\n",
       "      <th>A4</th>\n",
       "      <th>A5</th>\n",
       "      <th>A6</th>\n",
       "      <th>A7</th>\n",
       "      <th>A8</th>\n",
       "      <th>A9</th>\n",
       "      <th>A10</th>\n",
       "      <th>CLASS</th>\n",
       "    </tr>\n",
       "  </thead>\n",
       "  <tbody>\n",
       "    <tr>\n",
       "      <th>count</th>\n",
       "      <td>6.990000e+02</td>\n",
       "      <td>699.000000</td>\n",
       "      <td>699.000000</td>\n",
       "      <td>699.000000</td>\n",
       "      <td>699.000000</td>\n",
       "      <td>699.000000</td>\n",
       "      <td>699.000000</td>\n",
       "      <td>699.000000</td>\n",
       "      <td>699.000000</td>\n",
       "      <td>699.000000</td>\n",
       "      <td>699.000000</td>\n",
       "    </tr>\n",
       "    <tr>\n",
       "      <th>mean</th>\n",
       "      <td>1.071704e+06</td>\n",
       "      <td>4.417740</td>\n",
       "      <td>3.134478</td>\n",
       "      <td>3.207439</td>\n",
       "      <td>2.806867</td>\n",
       "      <td>3.216023</td>\n",
       "      <td>3.544656</td>\n",
       "      <td>3.437768</td>\n",
       "      <td>2.866953</td>\n",
       "      <td>1.589413</td>\n",
       "      <td>2.689557</td>\n",
       "    </tr>\n",
       "    <tr>\n",
       "      <th>std</th>\n",
       "      <td>6.170957e+05</td>\n",
       "      <td>2.815741</td>\n",
       "      <td>3.051459</td>\n",
       "      <td>2.971913</td>\n",
       "      <td>2.855379</td>\n",
       "      <td>2.214300</td>\n",
       "      <td>3.601852</td>\n",
       "      <td>2.438364</td>\n",
       "      <td>3.053634</td>\n",
       "      <td>1.715078</td>\n",
       "      <td>0.951273</td>\n",
       "    </tr>\n",
       "    <tr>\n",
       "      <th>min</th>\n",
       "      <td>6.163400e+04</td>\n",
       "      <td>1.000000</td>\n",
       "      <td>1.000000</td>\n",
       "      <td>1.000000</td>\n",
       "      <td>1.000000</td>\n",
       "      <td>1.000000</td>\n",
       "      <td>1.000000</td>\n",
       "      <td>1.000000</td>\n",
       "      <td>1.000000</td>\n",
       "      <td>1.000000</td>\n",
       "      <td>2.000000</td>\n",
       "    </tr>\n",
       "    <tr>\n",
       "      <th>25%</th>\n",
       "      <td>8.706885e+05</td>\n",
       "      <td>2.000000</td>\n",
       "      <td>1.000000</td>\n",
       "      <td>1.000000</td>\n",
       "      <td>1.000000</td>\n",
       "      <td>2.000000</td>\n",
       "      <td>1.000000</td>\n",
       "      <td>2.000000</td>\n",
       "      <td>1.000000</td>\n",
       "      <td>1.000000</td>\n",
       "      <td>2.000000</td>\n",
       "    </tr>\n",
       "    <tr>\n",
       "      <th>50%</th>\n",
       "      <td>1.171710e+06</td>\n",
       "      <td>4.000000</td>\n",
       "      <td>1.000000</td>\n",
       "      <td>1.000000</td>\n",
       "      <td>1.000000</td>\n",
       "      <td>2.000000</td>\n",
       "      <td>1.000000</td>\n",
       "      <td>3.000000</td>\n",
       "      <td>1.000000</td>\n",
       "      <td>1.000000</td>\n",
       "      <td>2.000000</td>\n",
       "    </tr>\n",
       "    <tr>\n",
       "      <th>75%</th>\n",
       "      <td>1.238298e+06</td>\n",
       "      <td>6.000000</td>\n",
       "      <td>5.000000</td>\n",
       "      <td>5.000000</td>\n",
       "      <td>4.000000</td>\n",
       "      <td>4.000000</td>\n",
       "      <td>5.000000</td>\n",
       "      <td>5.000000</td>\n",
       "      <td>4.000000</td>\n",
       "      <td>1.000000</td>\n",
       "      <td>4.000000</td>\n",
       "    </tr>\n",
       "    <tr>\n",
       "      <th>max</th>\n",
       "      <td>1.345435e+07</td>\n",
       "      <td>10.000000</td>\n",
       "      <td>10.000000</td>\n",
       "      <td>10.000000</td>\n",
       "      <td>10.000000</td>\n",
       "      <td>10.000000</td>\n",
       "      <td>10.000000</td>\n",
       "      <td>10.000000</td>\n",
       "      <td>10.000000</td>\n",
       "      <td>10.000000</td>\n",
       "      <td>4.000000</td>\n",
       "    </tr>\n",
       "  </tbody>\n",
       "</table>\n",
       "</div>"
      ],
      "text/plain": [
       "                Scn          A2          A3          A4          A5  \\\n",
       "count  6.990000e+02  699.000000  699.000000  699.000000  699.000000   \n",
       "mean   1.071704e+06    4.417740    3.134478    3.207439    2.806867   \n",
       "std    6.170957e+05    2.815741    3.051459    2.971913    2.855379   \n",
       "min    6.163400e+04    1.000000    1.000000    1.000000    1.000000   \n",
       "25%    8.706885e+05    2.000000    1.000000    1.000000    1.000000   \n",
       "50%    1.171710e+06    4.000000    1.000000    1.000000    1.000000   \n",
       "75%    1.238298e+06    6.000000    5.000000    5.000000    4.000000   \n",
       "max    1.345435e+07   10.000000   10.000000   10.000000   10.000000   \n",
       "\n",
       "               A6          A7          A8          A9         A10       CLASS  \n",
       "count  699.000000  699.000000  699.000000  699.000000  699.000000  699.000000  \n",
       "mean     3.216023    3.544656    3.437768    2.866953    1.589413    2.689557  \n",
       "std      2.214300    3.601852    2.438364    3.053634    1.715078    0.951273  \n",
       "min      1.000000    1.000000    1.000000    1.000000    1.000000    2.000000  \n",
       "25%      2.000000    1.000000    2.000000    1.000000    1.000000    2.000000  \n",
       "50%      2.000000    1.000000    3.000000    1.000000    1.000000    2.000000  \n",
       "75%      4.000000    5.000000    5.000000    4.000000    1.000000    4.000000  \n",
       "max     10.000000   10.000000   10.000000   10.000000   10.000000    4.000000  "
      ]
     },
     "execution_count": 5,
     "metadata": {},
     "output_type": "execute_result"
    }
   ],
   "source": [
    "breastcancerdf.describe()"
   ]
  },
  {
   "cell_type": "markdown",
   "metadata": {},
   "source": [
    "### Report the number of rows, columns and unique values"
   ]
  },
  {
   "cell_type": "code",
   "execution_count": 6,
   "metadata": {},
   "outputs": [
    {
     "name": "stdout",
     "output_type": "stream",
     "text": [
      "Total rows =  699\n",
      "Total columns =  11\n",
      "Unique ID values =  645\n"
     ]
    }
   ],
   "source": [
    "print('Total rows = ', breastcancerdf.shape[0])\n",
    "print('Total columns = ', breastcancerdf.shape[1])\n",
    "print('Unique ID values = ',len(breastcancerdf.Scn.unique()))"
   ]
  },
  {
   "cell_type": "markdown",
   "metadata": {},
   "source": [
    "## Plot Basic Graphs"
   ]
  },
  {
   "cell_type": "code",
   "execution_count": 7,
   "metadata": {},
   "outputs": [
    {
     "data": {
      "image/png": "[encoded data removed]",
      "text/plain": [
       "<Figure size 432x288 with 9 Axes>"
      ]
     },
     "metadata": {},
     "output_type": "display_data"
    }
   ],
   "source": [
    "df_A=breastcancerdf.loc[:,\"A2\":\"A10\"]\n",
    "df_A.hist(bins=15, color=\"purple\", alpha=0.9)\n",
    "plt.tight_layout(rect=(0,0,1.2,1.2))"
   ]
  },
  {
   "cell_type": "markdown",
   "metadata": {},
   "source": [
    "## Bar Plot for CLASS"
   ]
  },
  {
   "cell_type": "code",
   "execution_count": 8,
   "metadata": {},
   "outputs": [
    {
     "data": {
      "text/plain": [
       "Text(0,0.5,'Count')"
      ]
     },
     "execution_count": 8,
     "metadata": {},
     "output_type": "execute_result"
    },
    {
     "data": {
      "image/png": "[encoded data removed]",
      "text/plain": [
       "<Figure size 432x288 with 1 Axes>"
      ]
     },
     "metadata": {},
     "output_type": "display_data"
    }
   ],
   "source": [
    "df_B=breastcancerdf.CLASS.value_counts()\n",
    "sp=df_B.plot.bar(color = 'purple', alpha = 0.9)\n",
    "sp.set_xticklabels(['benign', 'malignant'])\n",
    "sp.set_title('Benign vs Malignant Tumors')\n",
    "\n",
    "sp.set_xlabel('Tumor Classification')\n",
    "sp.set_ylabel('Count')"
   ]
  },
  {
   "cell_type": "markdown",
   "metadata": {},
   "source": [
    "## Scatterplot of any 2 columns"
   ]
  },
  {
   "cell_type": "code",
   "execution_count": 9,
   "metadata": {},
   "outputs": [
    {
     "data": {
      "text/plain": [
       "Text(0,0.5,'Cell Size')"
      ]
     },
     "execution_count": 9,
     "metadata": {},
     "output_type": "execute_result"
    },
    {
     "data": {
      "image/png": "[encoded data removed]",
      "text/plain": [
       "<Figure size 432x288 with 1 Axes>"
      ]
     },
     "metadata": {},
     "output_type": "display_data"
    }
   ],
   "source": [
    "x=breastcancerdf.A2\n",
    "y=breastcancerdf.A3\n",
    "plt.scatter(x,y,color = 'orange')\n",
    "plt.title(\"Cell Size and Clump Thickness\")\n",
    "plt.xlabel(\"Clump Thickness\")\n",
    "plt.ylabel(\"Cell Size\")"
   ]
  },
  {
   "cell_type": "markdown",
   "metadata": {},
   "source": [
    "# Phase 2"
   ]
  },
  {
   "cell_type": "code",
   "execution_count": 10,
   "metadata": {},
   "outputs": [],
   "source": [
    "## Import KMeans\n",
    "\n",
    "from sklearn.cluster import KMeans\n",
    "\n"
   ]
  },
  {
   "cell_type": "markdown",
   "metadata": {},
   "source": [
    "## Use only columns A2 - A10"
   ]
  },
  {
   "cell_type": "code",
   "execution_count": 11,
   "metadata": {},
   "outputs": [
    {
     "name": "stdout",
     "output_type": "stream",
     "text": [
      "     A2  A3  A4  A5  A6         A7  A8  A9  A10\n",
      "0     5   1   1   1   2   1.000000   3   1    1\n",
      "1     5   4   4   5   7  10.000000   3   2    1\n",
      "2     3   1   1   1   2   2.000000   3   1    1\n",
      "3     6   8   8   1   3   4.000000   3   7    1\n",
      "4     4   1   1   3   2   1.000000   3   1    1\n",
      "5     8  10  10   8   7  10.000000   9   7    1\n",
      "6     1   1   1   1   2  10.000000   3   1    1\n",
      "7     2   1   2   1   2   1.000000   3   1    1\n",
      "8     2   1   1   1   2   1.000000   1   1    5\n",
      "9     4   2   1   1   2   1.000000   2   1    1\n",
      "10    1   1   1   1   1   1.000000   3   1    1\n",
      "11    2   1   1   1   2   1.000000   2   1    1\n",
      "12    5   3   3   3   2   3.000000   4   4    1\n",
      "13    1   1   1   1   2   3.000000   3   1    1\n",
      "14    8   7   5  10   7   9.000000   5   5    4\n",
      "15    7   4   6   4   6   1.000000   4   3    1\n",
      "16    4   1   1   1   2   1.000000   2   1    1\n",
      "17    4   1   1   1   2   1.000000   3   1    1\n",
      "18   10   7   7   6   4  10.000000   4   1    2\n",
      "19    6   1   1   1   2   1.000000   3   1    1\n",
      "20    7   3   2  10   5  10.000000   5   4    4\n",
      "21   10   5   5   3   6   7.000000   7  10    1\n",
      "22    3   1   1   1   2   1.000000   2   1    1\n",
      "23    8   4   5   1   2   3.544656   7   3    1\n",
      "24    1   1   1   1   2   1.000000   3   1    1\n",
      "25    5   2   3   4   2   7.000000   3   6    1\n",
      "26    3   2   1   1   1   1.000000   2   1    1\n",
      "27    5   1   1   1   2   1.000000   2   1    1\n",
      "28    2   1   1   1   2   1.000000   2   1    1\n",
      "29    1   1   3   1   2   1.000000   1   1    1\n",
      "..   ..  ..  ..  ..  ..        ...  ..  ..  ...\n",
      "669   5  10  10   8   5   5.000000   7  10    1\n",
      "670   3  10   7   8   5   8.000000   7   4    1\n",
      "671   3   2   1   2   2   1.000000   3   1    1\n",
      "672   2   1   1   1   2   1.000000   3   1    1\n",
      "673   5   3   2   1   3   1.000000   1   1    1\n",
      "674   1   1   1   1   2   1.000000   2   1    1\n",
      "675   4   1   4   1   2   1.000000   1   1    1\n",
      "676   1   1   2   1   2   1.000000   2   1    1\n",
      "677   5   1   1   1   2   1.000000   1   1    1\n",
      "678   1   1   1   1   2   1.000000   1   1    1\n",
      "679   2   1   1   1   2   1.000000   1   1    1\n",
      "680  10  10  10  10   5  10.000000  10  10    7\n",
      "681   5  10  10  10   4  10.000000   5   6    3\n",
      "682   5   1   1   1   2   1.000000   3   2    1\n",
      "683   1   1   1   1   2   1.000000   1   1    1\n",
      "684   1   1   1   1   2   1.000000   1   1    1\n",
      "685   1   1   1   1   2   1.000000   1   1    1\n",
      "686   1   1   1   1   2   1.000000   1   1    1\n",
      "687   3   1   1   1   2   1.000000   2   3    1\n",
      "688   4   1   1   1   2   1.000000   1   1    1\n",
      "689   1   1   1   1   2   1.000000   1   1    8\n",
      "690   1   1   1   3   2   1.000000   1   1    1\n",
      "691   5  10  10   5   4   5.000000   4   4    1\n",
      "692   3   1   1   1   2   1.000000   1   1    1\n",
      "693   3   1   1   1   2   1.000000   2   1    2\n",
      "694   3   1   1   1   3   2.000000   1   1    1\n",
      "695   2   1   1   1   2   1.000000   1   1    1\n",
      "696   5  10  10   3   7   3.000000   8  10    2\n",
      "697   4   8   6   4   3   4.000000  10   6    1\n",
      "698   4   8   8   5   4   5.000000  10   4    1\n",
      "\n",
      "[699 rows x 9 columns]\n"
     ]
    }
   ],
   "source": [
    "df_A=breastcancerdf.loc[:,\"A2\":\"A10\"]\n",
    "print(df_A)"
   ]
  },
  {
   "cell_type": "markdown",
   "metadata": {},
   "source": [
    "### Create KMeans model for n_cluster = 4"
   ]
  },
  {
   "cell_type": "code",
   "execution_count": 29,
   "metadata": {},
   "outputs": [
    {
     "data": {
      "text/plain": [
       "KMeans(algorithm='auto', copy_x=True, init='k-means++', max_iter=300,\n",
       "    n_clusters=4, n_init=10, n_jobs=1, precompute_distances='auto',\n",
       "    random_state=None, tol=0.0001, verbose=0)"
      ]
     },
     "execution_count": 29,
     "metadata": {},
     "output_type": "execute_result"
    }
   ],
   "source": [
    "test = df_A.values\n",
    "from sklearn.cluster import KMeans\n",
    "model = KMeans(n_clusters = 4)\n",
    "model.fit(test)"
   ]
  },
  {
   "cell_type": "code",
   "execution_count": 30,
   "metadata": {},
   "outputs": [
    {
     "name": "stdout",
     "output_type": "stream",
     "text": [
      "[0 2 0 3 0 1 0 0 0 0 0 0 0 0 1 3 0 0 2 0 2 3 0 3 0 2 0 0 0 0 0 0 3 0 0 0 3\n",
      " 0 2 2 3 3 1 3 3 0 2 0 0 3 3 0 3 1 2 3 3 3 2 3 3 0 3 3 0 3 0 2 1 0 0 3 0 2\n",
      " 3 0 0 0 0 0 0 0 0 0 1 3 2 1 0 0 0 0 0 0 0 0 0 0 3 1 3 0 0 0 1 0 2 1 0 2 0\n",
      " 2 2 1 0 0 0 1 0 0 0 0 1 2 1 0 2 0 2 0 0 0 1 0 0 0 0 0 0 0 0 0 2 0 0 0 2 0\n",
      " 0 1 0 2 3 0 0 2 0 0 0 1 2 0 0 0 0 0 1 3 0 0 0 0 0 1 2 1 0 3 0 2 0 0 0 1 2\n",
      " 0 1 1 1 0 1 1 0 0 0 0 2 0 0 0 1 2 0 0 0 1 3 0 0 0 1 1 0 1 1 3 0 0 3 0 0 1\n",
      " 0 2 2 0 2 3 0 1 2 1 3 2 0 0 1 3 1 2 0 0 0 0 0 0 1 2 0 0 0 2 2 1 3 2 0 0 0\n",
      " 2 2 1 1 2 3 0 2 2 3 0 2 0 2 0 0 0 0 0 0 2 0 0 2 2 2 1 1 0 3 1 0 0 3 2 0 2\n",
      " 3 0 0 2 3 0 1 0 2 2 0 0 3 0 0 0 3 0 0 3 2 1 0 2 2 0 0 2 0 0 2 0 3 2 2 0 0\n",
      " 2 2 0 2 0 0 2 2 0 0 0 1 0 0 0 3 2 0 0 3 1 0 0 0 1 3 2 1 2 0 0 0 0 1 1 0 0\n",
      " 0 0 0 0 0 0 0 0 0 0 0 2 0 0 0 0 2 0 0 0 0 1 0 0 0 0 0 0 0 0 1 0 0 0 0 0 0\n",
      " 0 0 0 0 0 3 0 2 0 2 0 0 0 0 1 0 0 0 1 0 3 0 0 0 0 0 0 2 2 3 0 0 0 2 0 0 0\n",
      " 0 0 0 0 0 1 0 0 0 1 0 0 2 3 0 0 0 0 0 0 0 3 2 2 0 0 0 0 0 0 0 0 0 0 0 1 0\n",
      " 0 1 1 0 0 0 1 3 0 0 2 0 1 2 0 0 0 0 0 0 0 0 0 0 0 1 0 0 0 0 0 0 0 1 1 0 0\n",
      " 0 2 0 0 2 2 0 0 0 0 0 0 2 0 0 0 0 0 0 0 0 0 0 0 0 0 0 0 1 0 0 3 0 0 0 0 0\n",
      " 0 0 0 0 0 0 0 0 0 0 1 0 0 2 1 2 1 0 0 3 0 0 0 0 0 0 1 1 0 0 0 1 0 3 0 3 2\n",
      " 2 0 2 0 0 0 0 0 0 0 0 3 2 3 0 0 1 0 2 3 1 0 0 0 0 0 0 0 0 0 0 0 0 0 3 0 0\n",
      " 0 0 0 0 3 0 0 3 0 0 0 0 0 0 0 0 0 0 0 1 0 0 0 0 0 0 0 0 3 2 0 0 0 0 0 0 0\n",
      " 0 0 3 1 1 0 0 0 0 0 0 0 0 0 1 1 0 0 0 0 0 0 0 0 0 3 0 0 0 0 3 3 3]\n"
     ]
    }
   ],
   "source": [
    "labels = model.predict(test)\n",
    "print(labels)"
   ]
  },
  {
   "cell_type": "markdown",
   "metadata": {},
   "source": [
    "## Calculate centroids"
   ]
  },
  {
   "cell_type": "code",
   "execution_count": 31,
   "metadata": {},
   "outputs": [
    {
     "name": "stdout",
     "output_type": "stream",
     "text": [
      "[[2.94493392 1.24449339 1.36563877 1.29295154 2.03964758 1.3514006\n",
      "  2.06167401 1.20044053 1.07709251]\n",
      " [6.7625     8.3875     8.425      7.75       6.775      9.2125\n",
      "  7.375      7.7375     3.7875    ]\n",
      " [7.23404255 4.85106383 5.04255319 4.86170213 4.11702128 9.38297872\n",
      "  5.26595745 3.78723404 1.64893617]\n",
      " [7.46478873 7.02816901 6.67605634 4.1971831  5.53521127 3.45322005\n",
      "  5.38028169 6.81690141 2.30985915]]\n"
     ]
    }
   ],
   "source": [
    "centroids = model.cluster_centers_\n",
    "print(centroids)"
   ]
  },
  {
   "cell_type": "markdown",
   "metadata": {},
   "source": [
    "## Find optimal number of clusters "
   ]
  },
  {
   "cell_type": "code",
   "execution_count": 15,
   "metadata": {},
   "outputs": [
    {
     "name": "stdout",
     "output_type": "stream",
     "text": [
      "[49078.827192998986, 19694.977242129746, 16599.3563845307, 15019.505116411576, 14088.254120977199, 13126.342185637503, 12351.64012637213, 11741.611408365203, 11011.778026121396, 10614.100923503534, 10142.068553287038, 9774.035225193187, 9513.458931529738, 9273.544961497091]\n"
     ]
    }
   ],
   "source": [
    "ks = range (1, 15)\n",
    "inertias = []\n",
    "for k in ks:\n",
    "    model=KMeans(n_clusters=k)\n",
    "    model.fit(test)\n",
    "    inertias.append(model.inertia_)\n",
    "print(inertias)"
   ]
  },
  {
   "cell_type": "markdown",
   "metadata": {},
   "source": [
    "## Plot inertia"
   ]
  },
  {
   "cell_type": "code",
   "execution_count": 16,
   "metadata": {},
   "outputs": [
    {
     "data": {
      "image/png": "[encoded data removed]",
      "text/plain": [
       "<Figure size 432x288 with 1 Axes>"
      ]
     },
     "metadata": {},
     "output_type": "display_data"
    }
   ],
   "source": [
    "plt.plot(ks,inertias,'-o')\n",
    "plt.title('Inertia vs Range')\n",
    "plt.xlabel('range, k')\n",
    "plt.ylabel('inertia')\n",
    "plt.xticks(ks)\n",
    "plt.show()"
   ]
  },
  {
   "cell_type": "markdown",
   "metadata": {},
   "source": [
    "## Revise data variation"
   ]
  },
  {
   "cell_type": "code",
   "execution_count": 17,
   "metadata": {},
   "outputs": [
    {
     "name": "stdout",
     "output_type": "stream",
     "text": [
      "A2     2.815741\n",
      "A3     3.051459\n",
      "A4     2.971913\n",
      "A5     2.855379\n",
      "A6     2.214300\n",
      "A7     3.601852\n",
      "A8     2.438364\n",
      "A9     3.053634\n",
      "A10    1.715078\n",
      "dtype: float64\n"
     ]
    }
   ],
   "source": [
    "stdev= df_A.std()\n",
    "print(stdev)"
   ]
  },
  {
   "cell_type": "code",
   "execution_count": 18,
   "metadata": {},
   "outputs": [
    {
     "data": {
      "text/plain": [
       "Text(0,0.5,'Standard Deviation')"
      ]
     },
     "execution_count": 18,
     "metadata": {},
     "output_type": "execute_result"
    },
    {
     "data": {
      "image/png": "[encoded data removed]",
      "text/plain": [
       "<Figure size 432x288 with 1 Axes>"
      ]
     },
     "metadata": {},
     "output_type": "display_data"
    }
   ],
   "source": [
    "sp=stdev.plot.bar(color = 'orange')\n",
    "sp.set_title('BC Standard Deviation')\n",
    "sp.set_xlabel('Attributes')\n",
    "sp.set_ylabel('Standard Deviation')"
   ]
  },
  {
   "cell_type": "markdown",
   "metadata": {},
   "source": [
    "## Imports (to implement normalization)"
   ]
  },
  {
   "cell_type": "code",
   "execution_count": 19,
   "metadata": {},
   "outputs": [],
   "source": [
    "from sklearn.preprocessing import StandardScaler\n",
    "from sklearn.pipeline import make_pipeline"
   ]
  },
  {
   "cell_type": "code",
   "execution_count": 20,
   "metadata": {},
   "outputs": [
    {
     "name": "stdout",
     "output_type": "stream",
     "text": [
      "[1 0 1 0 1 0 1 1 1 1 1 1 1 1 0 0 1 1 0 1 0 0 1 0 1 1 1 1 1 1 1 1 0 1 1 1 0\n",
      " 1 0 0 0 0 0 0 0 1 0 1 1 0 0 1 0 0 0 0 0 1 1 1 0 1 0 1 1 0 1 0 0 1 1 0 1 0\n",
      " 0 1 1 1 1 1 1 1 1 1 0 0 0 0 1 1 1 1 1 1 1 1 1 1 0 0 0 1 1 1 0 0 0 0 1 0 1\n",
      " 0 0 0 1 1 1 0 1 1 1 1 0 0 0 1 0 1 0 1 1 1 0 1 1 1 1 1 1 1 1 1 0 1 1 1 1 1\n",
      " 1 0 1 0 0 1 1 0 1 1 1 0 0 1 1 1 1 1 0 0 1 1 1 1 1 0 0 0 1 0 1 0 1 1 1 0 0\n",
      " 1 0 0 0 1 0 0 1 1 1 1 0 1 1 1 0 0 1 1 1 0 0 1 1 1 0 0 1 0 0 0 1 1 0 1 1 0\n",
      " 1 0 0 1 0 0 1 0 0 0 1 0 1 1 0 0 0 0 1 1 1 1 1 1 0 1 1 1 1 0 0 0 0 0 1 1 1\n",
      " 0 0 0 0 0 0 1 0 0 0 1 0 1 0 1 1 1 1 1 1 0 1 1 0 0 0 0 0 1 0 0 1 1 0 0 1 0\n",
      " 0 1 1 0 0 1 0 1 0 0 1 1 0 1 1 1 0 1 1 0 0 0 1 0 0 1 1 0 1 1 1 1 0 0 0 1 1\n",
      " 0 0 1 0 1 1 0 0 1 1 1 0 1 1 1 1 0 1 1 0 0 1 1 1 0 0 0 0 0 1 1 1 1 0 0 1 1\n",
      " 1 1 1 1 1 1 1 1 1 1 1 0 1 1 1 1 0 1 1 1 1 0 1 1 1 1 1 1 1 1 0 1 1 1 1 1 1\n",
      " 1 1 1 1 1 0 1 0 1 0 1 1 1 1 0 1 1 1 0 1 0 1 1 1 1 1 1 0 0 0 1 1 1 0 1 1 1\n",
      " 1 1 1 1 1 0 1 1 1 0 1 1 0 0 1 1 1 1 1 1 1 0 0 0 1 1 1 1 1 1 1 1 1 1 1 0 1\n",
      " 1 0 0 1 1 1 0 0 1 1 0 1 0 1 1 1 1 1 1 1 1 1 1 1 1 0 1 1 1 1 1 1 1 0 0 1 1\n",
      " 1 0 1 1 0 0 1 1 1 1 1 1 0 1 1 1 1 1 1 1 1 1 1 1 1 1 1 1 0 1 1 0 1 1 1 1 1\n",
      " 1 1 1 1 1 1 1 1 1 1 0 1 1 0 0 0 0 1 1 0 1 1 1 1 1 1 0 0 1 1 1 0 1 0 1 0 0\n",
      " 0 1 0 1 1 1 1 1 1 1 1 0 0 0 1 1 0 1 0 0 0 1 1 1 1 1 1 1 1 1 1 1 1 1 0 1 1\n",
      " 1 1 1 1 0 1 1 0 1 1 1 1 1 1 1 1 1 1 1 0 1 1 1 1 1 1 1 1 0 0 1 1 1 1 1 1 1\n",
      " 1 1 0 0 0 1 1 1 1 1 1 1 1 1 0 0 1 1 1 1 1 1 1 1 1 0 1 1 1 1 0 0 0]\n"
     ]
    }
   ],
   "source": [
    "scaler = StandardScaler()\n",
    "kmeans = KMeans(n_clusters=2)\n",
    "pipeline = make_pipeline(scaler,kmeans)\n",
    "pipeline.fit(test)\n",
    "labels = pipeline.predict(test)\n",
    "print(labels)"
   ]
  },
  {
   "cell_type": "markdown",
   "metadata": {},
   "source": [
    "## Find and print centroids"
   ]
  },
  {
   "cell_type": "code",
   "execution_count": 21,
   "metadata": {},
   "outputs": [
    {
     "name": "stdout",
     "output_type": "stream",
     "text": [
      "[[ 0.98276779  1.20070054  1.19107621  1.01916726  1.01393589  1.15647956\n",
      "   1.08298713  1.04765873  0.59959005]\n",
      " [-0.497738   -0.60811342 -0.60323903 -0.51617307 -0.51352357 -0.58571702\n",
      "  -0.54849564 -0.53060302 -0.30367169]]\n"
     ]
    }
   ],
   "source": [
    "centroids=kmeans.cluster_centers_\n",
    "print(centroids)"
   ]
  },
  {
   "cell_type": "markdown",
   "metadata": {},
   "source": [
    "# Phase 3"
   ]
  },
  {
   "cell_type": "markdown",
   "metadata": {},
   "source": [
    "## Cluster"
   ]
  },
  {
   "cell_type": "code",
   "execution_count": 22,
   "metadata": {},
   "outputs": [],
   "source": [
    "model = KMeans(n_clusters = 2, n_init = 20, max_iter = 500)\n",
    "model.fit(test)\n",
    "labels = model.predict(test)"
   ]
  },
  {
   "cell_type": "code",
   "execution_count": 23,
   "metadata": {},
   "outputs": [],
   "source": [
    "labels = model.predict(test)"
   ]
  },
  {
   "cell_type": "markdown",
   "metadata": {},
   "source": [
    "## Dataframe"
   ]
  },
  {
   "cell_type": "code",
   "execution_count": 24,
   "metadata": {},
   "outputs": [],
   "source": [
    "import pandas as pd"
   ]
  },
  {
   "cell_type": "markdown",
   "metadata": {},
   "source": [
    "## Create a new column"
   ]
  },
  {
   "cell_type": "code",
   "execution_count": 29,
   "metadata": {},
   "outputs": [],
   "source": [
    "labels = model.predict(test)\n",
    "new_col = pd.DataFrame(breastcancerdf,columns=['CLASS','labels'])"
   ]
  },
  {
   "cell_type": "code",
   "execution_count": 30,
   "metadata": {},
   "outputs": [
    {
     "name": "stdout",
     "output_type": "stream",
     "text": [
      "    CLASS  labels\n",
      "0       2     NaN\n",
      "1       2     NaN\n",
      "2       2     NaN\n",
      "3       2     NaN\n",
      "4       2     NaN\n",
      "5       4     NaN\n",
      "6       2     NaN\n",
      "7       2     NaN\n",
      "8       2     NaN\n",
      "9       2     NaN\n",
      "10      2     NaN\n",
      "11      2     NaN\n",
      "12      4     NaN\n",
      "13      2     NaN\n",
      "14      4     NaN\n"
     ]
    }
   ],
   "source": [
    "print(new_col.head(n=15))"
   ]
  },
  {
   "cell_type": "code",
   "execution_count": 25,
   "metadata": {},
   "outputs": [
    {
     "data": {
      "text/html": [
       "<div>\n",
       "<style scoped>\n",
       "    .dataframe tbody tr th:only-of-type {\n",
       "        vertical-align: middle;\n",
       "    }\n",
       "\n",
       "    .dataframe tbody tr th {\n",
       "        vertical-align: top;\n",
       "    }\n",
       "\n",
       "    .dataframe thead th {\n",
       "        text-align: right;\n",
       "    }\n",
       "</style>\n",
       "<table border=\"1\" class=\"dataframe\">\n",
       "  <thead>\n",
       "    <tr style=\"text-align: right;\">\n",
       "      <th></th>\n",
       "      <th>CLASS</th>\n",
       "      <th>labels</th>\n",
       "    </tr>\n",
       "  </thead>\n",
       "  <tbody>\n",
       "    <tr>\n",
       "      <th>0</th>\n",
       "      <td>2</td>\n",
       "      <td>1</td>\n",
       "    </tr>\n",
       "    <tr>\n",
       "      <th>1</th>\n",
       "      <td>2</td>\n",
       "      <td>0</td>\n",
       "    </tr>\n",
       "    <tr>\n",
       "      <th>2</th>\n",
       "      <td>2</td>\n",
       "      <td>1</td>\n",
       "    </tr>\n",
       "    <tr>\n",
       "      <th>3</th>\n",
       "      <td>2</td>\n",
       "      <td>0</td>\n",
       "    </tr>\n",
       "    <tr>\n",
       "      <th>4</th>\n",
       "      <td>2</td>\n",
       "      <td>1</td>\n",
       "    </tr>\n",
       "  </tbody>\n",
       "</table>\n",
       "</div>"
      ],
      "text/plain": [
       "   CLASS  labels\n",
       "0      2       1\n",
       "1      2       0\n",
       "2      2       1\n",
       "3      2       0\n",
       "4      2       1"
      ]
     },
     "execution_count": 25,
     "metadata": {},
     "output_type": "execute_result"
    }
   ],
   "source": [
    "CLASS = breastcancerdf.loc[:,'CLASS']\n",
    "d = {'CLASS':CLASS,'labels':labels}\n",
    "new_df = pd.DataFrame(d)\n",
    "new_df.head()"
   ]
  },
  {
   "cell_type": "code",
   "execution_count": 27,
   "metadata": {},
   "outputs": [
    {
     "data": {
      "text/html": [
       "<div>\n",
       "<style scoped>\n",
       "    .dataframe tbody tr th:only-of-type {\n",
       "        vertical-align: middle;\n",
       "    }\n",
       "\n",
       "    .dataframe tbody tr th {\n",
       "        vertical-align: top;\n",
       "    }\n",
       "\n",
       "    .dataframe thead th {\n",
       "        text-align: right;\n",
       "    }\n",
       "</style>\n",
       "<table border=\"1\" class=\"dataframe\">\n",
       "  <thead>\n",
       "    <tr style=\"text-align: right;\">\n",
       "      <th></th>\n",
       "      <th>CLASS</th>\n",
       "      <th>labels</th>\n",
       "    </tr>\n",
       "  </thead>\n",
       "  <tbody>\n",
       "    <tr>\n",
       "      <th>0</th>\n",
       "      <td>2</td>\n",
       "      <td>4</td>\n",
       "    </tr>\n",
       "    <tr>\n",
       "      <th>1</th>\n",
       "      <td>2</td>\n",
       "      <td>2</td>\n",
       "    </tr>\n",
       "    <tr>\n",
       "      <th>2</th>\n",
       "      <td>2</td>\n",
       "      <td>4</td>\n",
       "    </tr>\n",
       "    <tr>\n",
       "      <th>3</th>\n",
       "      <td>2</td>\n",
       "      <td>2</td>\n",
       "    </tr>\n",
       "    <tr>\n",
       "      <th>4</th>\n",
       "      <td>2</td>\n",
       "      <td>4</td>\n",
       "    </tr>\n",
       "    <tr>\n",
       "      <th>5</th>\n",
       "      <td>4</td>\n",
       "      <td>2</td>\n",
       "    </tr>\n",
       "    <tr>\n",
       "      <th>6</th>\n",
       "      <td>2</td>\n",
       "      <td>4</td>\n",
       "    </tr>\n",
       "    <tr>\n",
       "      <th>7</th>\n",
       "      <td>2</td>\n",
       "      <td>4</td>\n",
       "    </tr>\n",
       "    <tr>\n",
       "      <th>8</th>\n",
       "      <td>2</td>\n",
       "      <td>4</td>\n",
       "    </tr>\n",
       "    <tr>\n",
       "      <th>9</th>\n",
       "      <td>2</td>\n",
       "      <td>4</td>\n",
       "    </tr>\n",
       "    <tr>\n",
       "      <th>10</th>\n",
       "      <td>2</td>\n",
       "      <td>4</td>\n",
       "    </tr>\n",
       "    <tr>\n",
       "      <th>11</th>\n",
       "      <td>2</td>\n",
       "      <td>4</td>\n",
       "    </tr>\n",
       "    <tr>\n",
       "      <th>12</th>\n",
       "      <td>4</td>\n",
       "      <td>4</td>\n",
       "    </tr>\n",
       "    <tr>\n",
       "      <th>13</th>\n",
       "      <td>2</td>\n",
       "      <td>4</td>\n",
       "    </tr>\n",
       "    <tr>\n",
       "      <th>14</th>\n",
       "      <td>4</td>\n",
       "      <td>2</td>\n",
       "    </tr>\n",
       "  </tbody>\n",
       "</table>\n",
       "</div>"
      ],
      "text/plain": [
       "    CLASS  labels\n",
       "0       2       4\n",
       "1       2       2\n",
       "2       2       4\n",
       "3       2       2\n",
       "4       2       4\n",
       "5       4       2\n",
       "6       2       4\n",
       "7       2       4\n",
       "8       2       4\n",
       "9       2       4\n",
       "10      2       4\n",
       "11      2       4\n",
       "12      4       4\n",
       "13      2       4\n",
       "14      4       2"
      ]
     },
     "execution_count": 27,
     "metadata": {},
     "output_type": "execute_result"
    }
   ],
   "source": [
    "new_df['labels'] = new_df['labels'].replace(0,2)\n",
    "new_df['labels'] = new_df['labels'].replace(1,4)\n",
    "new_df.head(15)"
   ]
  },
  {
   "cell_type": "markdown",
   "metadata": {},
   "source": [
    "## Error Rate Function"
   ]
  },
  {
   "cell_type": "code",
   "execution_count": 28,
   "metadata": {},
   "outputs": [
    {
     "name": "stdout",
     "output_type": "stream",
     "text": [
      "   labels  CLASS  counts\n",
      "0       2      4     222\n",
      "1       2      2      11\n",
      "2       4      2     447\n",
      "3       4      4      19\n",
      "Error Rate for Benign: 0.0815450643776824\n",
      "Error Rate for Malignant: 0.023605150214592276\n",
      "Total Error Rate: 0.04291845493562232\n"
     ]
    }
   ],
   "source": [
    "\n",
    "def ErrorRate(labels, CLASS):\n",
    "    #Count the number of 2 and 4 values that are in column CLASS with labels of 2 or 4\n",
    "    labels_class = new_df['CLASS'].groupby(new_df['labels']).value_counts()\n",
    "    \n",
    "    #Create and display a data frame that adds 'counts' column with the value counts\n",
    "    labels_class_df=pd.DataFrame(labels_class.reset_index(name = \"counts\"))\n",
    "    print(labels_class_df)\n",
    "    \n",
    "    #Assign values in 'counts' column to variables\n",
    "    int_0 = labels_class_df.loc[0,'counts']\n",
    "    int_1 = labels_class_df.loc[1,'counts']\n",
    "    int_2 = labels_class_df.loc[2,'counts']\n",
    "    int_3  = labels_class_df.loc[3,'counts']\n",
    "    \n",
    "    #Perform and print Error Rate Calculations\n",
    "    B_Error = int_3/(int_0 + int_1)\n",
    "    print(\"Error Rate for Benign:\", B_Error)\n",
    "    M_Error = int_1/(int_2 + int_3)\n",
    "    print(\"Error Rate for Malignant:\", M_Error)\n",
    "    Total_Error = (int_1 + int_3)/(labels_class_df.counts.sum())\n",
    "    print(\"Total Error Rate:\", Total_Error)\n",
    "    \n",
    "ErrorRate(labels, CLASS)"
   ]
  },
  {
   "cell_type": "markdown",
   "metadata": {},
   "source": [
    "## Report Statement"
   ]
  },
  {
   "cell_type": "markdown",
   "metadata": {},
   "source": [
    "The final project analyzed 699 samples of 10 different attributes of abnormal growth, which included clump thickness, marginal adhesion, and single epithelial cell size, among others.  In Phase 1 some basic statistics were calculated on the breast cancer dataset.  Looking at the means of each attribute, the distribution was low.  In phase 2, the optimal number of clusters were determined using the KMeans elbow method.  A plot of Inertia vs Range showed inertia decreased rapidly at K= 2, creating an elbow.   Thus, the optimal number of clusters for this dataset is 2.   In the final phase of the project, some error rate calculations were performed.  The error rate for benign growths was lower than for malignant growths and the total error rate was between the two error rates for benign and malignant.  The higher error rate for the malignant growth may be attributed to the smaller sample set for malignant which was 233 samples versus 466 samples for benign.  "
   ]
  },
  {
   "cell_type": "code",
   "execution_count": null,
   "metadata": {},
   "outputs": [],
   "source": []
  }
 ],
 "metadata": {
  "kernelspec": {
   "display_name": "Python 3",
   "language": "python",
   "name": "python3"
  },
  "language_info": {
   "codemirror_mode": {
    "name": "ipython",
    "version": 3
   },
   "file_extension": ".py",
   "mimetype": "text/x-python",
   "name": "python",
   "nbconvert_exporter": "python",
   "pygments_lexer": "ipython3",
   "version": "3.6.5"
  }
 },
 "nbformat": 4,
 "nbformat_minor": 2
}
